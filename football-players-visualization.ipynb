{
 "cells": [
  {
   "cell_type": "code",
   "execution_count": 1,
   "id": "c441e9b0",
   "metadata": {
    "execution": {
     "iopub.execute_input": "2023-07-18T13:20:06.220558Z",
     "iopub.status.busy": "2023-07-18T13:20:06.220069Z",
     "iopub.status.idle": "2023-07-18T13:20:08.938261Z",
     "shell.execute_reply": "2023-07-18T13:20:08.937119Z"
    },
    "papermill": {
     "duration": 2.735686,
     "end_time": "2023-07-18T13:20:08.941037",
     "exception": false,
     "start_time": "2023-07-18T13:20:06.205351",
     "status": "completed"
    },
    "tags": []
   },
   "outputs": [],
   "source": [
    "import numpy as np\n",
    "import pandas as pd\n",
    "import matplotlib.pyplot as plt\n",
    "import seaborn as sns\n",
    "import plotly.express as px\n",
    "import plotly.graph_objects as go\n",
    "from sklearn.preprocessing import MinMaxScaler"
   ]
  },
  {
   "cell_type": "markdown",
   "id": "7a4f91a9",
   "metadata": {
    "papermill": {
     "duration": 0.009983,
     "end_time": "2023-07-18T13:20:08.961794",
     "exception": false,
     "start_time": "2023-07-18T13:20:08.951811",
     "status": "completed"
    },
    "tags": []
   },
   "source": [
    "# Feature choosing"
   ]
  },
  {
   "cell_type": "code",
   "execution_count": 2,
   "id": "d0982259",
   "metadata": {
    "execution": {
     "iopub.execute_input": "2023-07-18T13:20:08.985366Z",
     "iopub.status.busy": "2023-07-18T13:20:08.984924Z",
     "iopub.status.idle": "2023-07-18T13:20:09.006983Z",
     "shell.execute_reply": "2023-07-18T13:20:09.005819Z"
    },
    "papermill": {
     "duration": 0.036931,
     "end_time": "2023-07-18T13:20:09.009496",
     "exception": false,
     "start_time": "2023-07-18T13:20:08.972565",
     "status": "completed"
    },
    "tags": []
   },
   "outputs": [],
   "source": [
    "acronyms = {\"Rk\": \"Rank\", \"Player\": \"Player's name\", \"Nation\": \"Player's nation\", \"Pos\": \"Position\",\n",
    "            \"Squad\": \"Squad’s name\", \"Comp\": \"League that squat occupies\", \"Age\": \"Player's age\",\n",
    "            \"Born\": \"Year of birth\", \"MP\": \"Matches played\", \"Starts\": \"Matches started\",\n",
    "            \"Min\": \"Minutes played\", \"90s\": \"Minutes played divided by 90\", \n",
    "            \"Goals\": \"Goals scored or allowed\", \n",
    "            \"Shots\": \"Shots total (Does not include penalty kicks)\", \n",
    "            \"SoT\": \"Shots on target (Does not include penalty kicks)\", \n",
    "            'SoT%': 'Shots on target percentage (Does not include penalty kicks)',\n",
    "            'G/Sh': 'Goals per shot', \n",
    "            'G/SoT': 'Goals per shot on target (Does not include penalty kicks)', \n",
    "            'ShoDist': 'Average distance, in yards, from goal of all shots taken (Does not include penalty kicks)',\n",
    "            'ShoFK': 'Shots from free kicks', \n",
    "            'ShoPK': 'Penalty kicks made',\n",
    "            \"PasProg\":\"Completed passes that move the ball towards the opponent's goal at least 10 yards from its furthest point in the last six passes, or any completed pass into the penalty area\",\n",
    "                  \"PasAtt\":\"Passes attempted\",\n",
    "                  \"PasLive\":\"Live-ball passes\",\n",
    "                  \"PasDead\":\"Dead-ball passes\",\n",
    "                  \"PasFK\":\"Passes attempted from free kicks\",\n",
    "                  \"TB\":\"Completed pass sent between back defenders into open space\",\n",
    "                  \"Sw\":\"Passes that travel more than 40 yards of the width of the pitch\",\n",
    "                  \"PasCrs\":\"Crosses\",\n",
    "                  \"TI\":\"Throw-Ins taken\",\n",
    "                  \"CK\":\"Corner kicks\",\n",
    "                  \"CkIn\":\"Inswinging corner kicks\",\n",
    "                  \"CkOut\":\"Outswinging corner kicks\",\n",
    "                  \"CkStr\":\"Straight corner kicks\",\n",
    "                  \"PasCmp\":\"Passes completed\",\n",
    "                  \"PasOff\":\"Offsides\",\n",
    "                  \"PasBlocks\":\"Blocked by the opponent who was standing it the path\",\n",
    "                  \"SCA\":\"Shot-creating actions\",\n",
    "                  \"ScaPassLive\":\"Completed live-ball passes that lead to a shot attempt\",\n",
    "                  \"ScaPassDead\":\"Completed dead-ball passes that lead to a shot attempt\",\n",
    "                  \"ScaDrib\":\"Successful dribbles that lead to a shot attempt\",\n",
    "                  \"ScaSh\":\"Shots that lead to another shot attempt\",\n",
    "                  \"ScaFld\":\"Fouls drawn that lead to a shot attempt\",\n",
    "                  \"ScaDef\":\"Defensive actions that lead to a shot attempt\",\n",
    "                  \"GCA\":\"Goal-creating actions\",\n",
    "                  \"GcaPassLive\":\"Completed live-ball passes that lead to a goal\",\n",
    "                  \"GcaPassDead\":\"Completed dead-ball passes that lead to a goal\",\n",
    "                  \"GcaDrib\":\"Successful dribbles that lead to a goal\",\n",
    "                  \"GcaSh\":\"Shots that lead to another goal-scoring shot\",\n",
    "                  \"GcaFld\":\"Fouls drawn that lead to a goal\",\n",
    "                  \"GcaDef\":\"Defensive actions that lead to a goal\",\n",
    "                  \"Tkl\":\"Number of players tackled\",\n",
    "                  \"TklWon\":\"Tackles in which the tackler's team won possession of the ball\",\n",
    "                  \"TklDef3rd\":\"Tackles in defensive 1/3\",\n",
    "                  \"TklMid3rd\":\"Tackles in middle 1/3\",\n",
    "                  \"TklAtt3rd\":\"Tackles in attacking 1/3\",\n",
    "                  \"TklDri\":\"Number of dribblers tackled\",\n",
    "                  \"TklDriAtt\":\"Number of times dribbled past plus number of tackles\",\n",
    "                  \"TklDri%\":\"Percentage of dribblers tackled\",\n",
    "                  \"TklDriPast\":\"Number of times dribbled past by an opposing player\",\n",
    "                  \"Blocks\":'Number of times blocking the ball by standing in its path',\n",
    "                 'BlkSh':'Number of times blocking a shot by standing in its path',\n",
    "            'PKatt': 'Penalty kicks attempted', \n",
    "            'PasTotCmp': 'Passes completed', \n",
    "            'PasTotAtt': 'Passes attempted', \n",
    "            'PasTotCmp%': 'Pass completion percentage', \n",
    "            'PasTotDist': 'Total distance, in yards, that completed passes have traveled in any direction',\n",
    "            'PasTotPrgDist': 'Total distance, in yards, that completed passes have traveled towards the opponent\\'s goal',\n",
    "            'PasShoCmp': 'Passes completed (Passes between 5 and 15 yards)', \n",
    "            'PasShoAtt': 'Passes attempted (Passes between 5 and 15 yards)', \n",
    "            'PasShoCmp%': 'Pass completion percentage (Passes between 5 and 15 yards)',\n",
    "            'PasMedCmp': 'Passes completed (Passes between 15 and 30 yards)', \n",
    "            'PasMedAtt': 'Passes attempted (Passes between 15 and 30 yards)', \n",
    "            'PasMedCmp%': 'Pass completion percentage (Passes between 15 and 30 yards)',\n",
    "            'PasLonCmp': 'Passes completed (Passes longer than 30 yards)', \n",
    "            'PasLonAtt': 'Passes attempted (Passes longer than 30 yards)', \n",
    "            'PasLonCmp%': 'Pass completion percentage (Passes longer than 30 yards)',\n",
    "            'Assists': 'Assists', \n",
    "            'PasAss': 'Passes that directly lead to a shot (assisted shots)', \n",
    "            'Pas3rd': 'Completed passes that enter the 1/3 of the pitch closest to the goal',\n",
    "             \"PPA\" : \"Completed passes into the 18-yard box\",\n",
    "            \"CrsPA\" : \"Completed crosses into the 18-yard box\",\n",
    "           \"BlkPass\":\"Number of times blocking a pass by standing in its path\",\n",
    "                  \"Int\":\"Interceptions\",\n",
    "                  \"Tkl+Int\":\"Number of players tackled plus number of interceptions\",\n",
    "                  \"Clr\":\"Clearances\",\n",
    "                  \"Err\":\"Mistakes leading to an opponent's shot\",\n",
    "                  \"Touches\":\"Number of times a player touched the ball. Note: Receiving a pass, then dribbling, then sending a pass counts as one touch\",\n",
    "                  \"TouDefPen\":\"Touches in defensive penalty area\",\n",
    "                  \"TouDef3rd\":\"Touches in defensive 1/3\",\n",
    "                  \"TouMid3rd\":\"Touches in middle 1/3\",\n",
    "                  \"TouAtt3rd\":\"Touches in attacking 1/3\",\n",
    "                  \"TouAttPen\":\"Touches in attacking penalty area\",\n",
    "                  \"TouLive\":\"Live-ball touches. Does not include corner kicks, free kicks, throw-ins, kick-offs, goal kicks or penalty kicks.\",\n",
    "                  \"ToAtt\":\"Number of attempts to take on defenders while dribbling\",\n",
    "                  \"ToSuc\":\"Number of defenders taken on successfully, by dribbling past them\",\n",
    "                  \"ToSuc%\":\"Percentage of take-ons Completed Successfully\",\n",
    "                  \"ToTkl\":\"Number of times tackled by a defender during a take-on attempt\",\n",
    "                  \"ToTkl%\":\"Percentage of time tackled by a defender during a take-on attempt\",\n",
    "                  \"Carries\":\"Number of times the player controlled the ball with their feet\",\n",
    "                  \"CarTotDist\":\"Total distance, in yards, a player moved the ball while controlling it with their feet, in any direction\",\n",
    "                  \"CarPrgDist\":\"Total distance, in yards, a player moved the ball while controlling it with their feet towards the opponent's goal\",\n",
    "                  \"CarProg\":\"Carries that move the ball towards the opponent's goal at least 5 yards, or any carry into the penalty area\",\n",
    "                  \"Car3rd\":\"Carries that enter the 1/3 of the pitch closest to the goal\",\n",
    "                  \"CPA\":\"Carries into the 18-yard box\",\n",
    "                  \"CarMis\":\"Number of times a player failed when attempting to gain control of a ball\",\n",
    "                  \"CarDis\":\"Number of times a player loses control of the ball after being tackled by an opposing player\",\n",
    "                  \"Rec\":\"Number of times a player successfully received a pass\",\n",
    "           \"RecProg\" : \n",
    "            \"Completed passes that move the ball towards the opponents goal at least 10 yards from its furthest point in the last six passes, or any completed pass into the penalty area Make this a dictionary\",\n",
    "           \"CrdY\":\"Yellow cards\",\n",
    "                  \"CrdR\":\"Red cards\",\n",
    "                  \"2CrdY\":\"Second yellow card\",\n",
    "                  \"Fls\":\"Fouls committed\",\n",
    "                  \"Fld\":\"Fouls drawn\",\n",
    "                  \"Off\":\"Offsides\",\n",
    "                  \"Crs\":\"Crosses\",\n",
    "                  \"TklW\":\"Tackles in which the tackler's team won possession of the ball\",\n",
    "                  \"PKwon\":\"Penalty kicks won\",\n",
    "                  \"PKcon\":\"Penalty kicks conceded\",\n",
    "                  \"OG\":\"Own goals\",\n",
    "                  \"Recov\":\"Number of loose balls recovered\",\n",
    "                  \"AerWon\":\"Aerials won\",\n",
    "                  \"AerLost\":\"Aerials lost\",\n",
    "                  \"AerWon%\":\"Percentage of aerials won\",\n",
    "           }\n"
   ]
  },
  {
   "cell_type": "code",
   "execution_count": 3,
   "id": "0316c863",
   "metadata": {
    "execution": {
     "iopub.execute_input": "2023-07-18T13:20:09.033185Z",
     "iopub.status.busy": "2023-07-18T13:20:09.032780Z",
     "iopub.status.idle": "2023-07-18T13:20:09.039900Z",
     "shell.execute_reply": "2023-07-18T13:20:09.039038Z"
    },
    "papermill": {
     "duration": 0.021625,
     "end_time": "2023-07-18T13:20:09.042349",
     "exception": false,
     "start_time": "2023-07-18T13:20:09.020724",
     "status": "completed"
    },
    "tags": []
   },
   "outputs": [],
   "source": [
    "general_info = [\"Player\", \"Nation\", \"Pos\", \"Squad\", \"Age\", \"Born\"]\n",
    "playing_time = [\"MP\", \"Starts\", \"Min\"]\n",
    "goals_info = [\"Goals\", \"Shots\", \"SoT\", \"G/Sh\", \"G/SoT\", \"ShoDist\", \"ShoPK\", \"PKatt\", \"GCA\", \n",
    "              \"SCA\", \"Off\", \"PKwon\", \"PKcon\"]\n",
    "\n",
    "passes_info = [\"PasTotCmp\", \"PasTotDist\", \"PasTotPrgDist\", \"Assists\", \n",
    "               \"PasAss\", \"Pas3rd\", \"PPA\", \"PasCrs\", \"CrsPA\", \"PasAtt\", \"PasLive\", \"PasDead\", \"PasOff\",\n",
    "              \"PasBlocks\", \"Crs\"]\n",
    "skill_info = [\"SCA\", \"ScaDrib\", \"ScaFld\", \"ToAtt\", \"ToSuc\", \"Carries\", \"CarTotDist\", \"CarPrgDist\", \"Car3rd\", 'CPA', \"CarMis\", \"CarDis\", \"Fld\"]\n",
    "defense_info = [\"Tkl\", \"TklWon\", \"TklDri\", \"Blocks\", \"Int\", \"Clr\", \"Err\", \"CrdY\", \"CrdR\", \"Fls\", \"OG\", \"Recov\", \"AerWon\", \n",
    "             \"AerLost\"]"
   ]
  },
  {
   "cell_type": "code",
   "execution_count": 4,
   "id": "b7b23387",
   "metadata": {
    "execution": {
     "iopub.execute_input": "2023-07-18T13:20:09.066436Z",
     "iopub.status.busy": "2023-07-18T13:20:09.065776Z",
     "iopub.status.idle": "2023-07-18T13:20:09.070615Z",
     "shell.execute_reply": "2023-07-18T13:20:09.069761Z"
    },
    "papermill": {
     "duration": 0.019215,
     "end_time": "2023-07-18T13:20:09.072876",
     "exception": false,
     "start_time": "2023-07-18T13:20:09.053661",
     "status": "completed"
    },
    "tags": []
   },
   "outputs": [],
   "source": [
    "goals_bestfeatures = [\"Goals\", \"Shots\", \"SoT\"]\n",
    "passes_bestfeatures = [\"PasTotCmp\", \"Assists\"]\n",
    "skill_bestfeatures = [\"SCA\", \"ScaDrib\"]\n",
    "defense_bestfeatures = [\"Tkl\", \"Int\"]"
   ]
  },
  {
   "cell_type": "code",
   "execution_count": 5,
   "id": "1711cf1c",
   "metadata": {
    "execution": {
     "iopub.execute_input": "2023-07-18T13:20:09.096108Z",
     "iopub.status.busy": "2023-07-18T13:20:09.095392Z",
     "iopub.status.idle": "2023-07-18T13:20:09.102698Z",
     "shell.execute_reply": "2023-07-18T13:20:09.101818Z"
    },
    "papermill": {
     "duration": 0.021899,
     "end_time": "2023-07-18T13:20:09.105269",
     "exception": false,
     "start_time": "2023-07-18T13:20:09.083370",
     "status": "completed"
    },
    "tags": []
   },
   "outputs": [],
   "source": [
    "forward_features = [\"Goals\", \"Shots\", \"SoT\", \"G/Sh\", \"G/SoT\", \"ShoDist\", \"PKatt\", \"GCA\", \"SCA\", \"Off\", \"PKwon\", \"PKcon\", \"ScaDrib\", \n",
    "                    \"ScaPassLive\", \"TouAttPen\", \"Car3rd\", \"Fld\"]\n",
    "midfielder_features = [\"PasTotCmp\", \"PasTotCmp%\", \"PasTotDist\", \"PasTotPrgDist\", \"Assists\", \"PasAss\", \"Pas3rd\", \"Crs\", \"PasCmp\", \n",
    "                       \"PasOff\", \"PasBlocks\", \"SCA\", \"ScaPassLive\", \"ScaPassDead\", \"ScaDrib\", \"ScaSh\", \"ScaFld\", \"GCA\", \"GcaPassLive\", \n",
    "                       \"GcaPassDead\", \"GcaDrib\", \"GcaSh\", \"GcaFld\", \"Tkl\", \"TklWon\", \"TklDef3rd\", \"TklMid3rd\", \"TklAtt3rd\", \"TklDri\", \n",
    "                       \"TklDriAtt\", \"TklDri%\", \"TklDriPast\", \"Blocks\", \"BlkSh\", \"Int\", \"Recov\"]\n",
    "defender_features = [\"Tkl\", \"TklWon\", \"TklDef3rd\", \"TklMid3rd\", \"TklAtt3rd\", \"TklDri\", \"TklDriAtt\", \"TklDri%\", \"TklDriPast\", \"Blocks\", \n",
    "                     \"BlkSh\", \"Int\", \"Recov\", \"AerWon\", \"AerLost\", \"AerWon%\"]"
   ]
  },
  {
   "cell_type": "code",
   "execution_count": 6,
   "id": "4da8e23e",
   "metadata": {
    "execution": {
     "iopub.execute_input": "2023-07-18T13:20:09.129071Z",
     "iopub.status.busy": "2023-07-18T13:20:09.128622Z",
     "iopub.status.idle": "2023-07-18T13:20:09.138363Z",
     "shell.execute_reply": "2023-07-18T13:20:09.136190Z"
    },
    "papermill": {
     "duration": 0.025362,
     "end_time": "2023-07-18T13:20:09.141266",
     "exception": false,
     "start_time": "2023-07-18T13:20:09.115904",
     "status": "completed"
    },
    "tags": []
   },
   "outputs": [],
   "source": [
    "forward_features_sum = [\"Goals\", \"Shots\", \"SoT\", \"PKatt\", \"GCA\", \"SCA\", \"Off\", \"PKwon\", \"PKcon\", \"ScaDrib\", \n",
    "                    \"ScaPassLive\", \"TouAttPen\", \"Car3rd\", \"Fld\"]\n",
    "forward_features_max = [\"G/Sh\", \"G/SoT\", \"ShoDist\"]\n",
    "midfielder_features_sum = [\"PasTotCmp\", \"PasTotDist\", \"PasTotPrgDist\", \"Assists\", \"PasAss\", \"Pas3rd\", \"Crs\", \"PasCmp\", \n",
    "                       \"PasOff\", \"PasBlocks\", \"SCA\", \"ScaPassLive\", \"ScaPassDead\", \"ScaDrib\", \"ScaSh\", \"ScaFld\", \"GCA\", \"GcaPassLive\", \n",
    "                       \"GcaPassDead\", \"GcaDrib\", \"GcaSh\", \"GcaFld\", \"Tkl\", \"TklWon\", \"TklDef3rd\", \"TklMid3rd\", \"TklAtt3rd\", \"TklDri\", \n",
    "                       \"TklDriAtt\", \"TklDriPast\", \"Blocks\", \"BlkSh\", \"Int\", \"Recov\"]\n",
    "midfielder_features_max = [\"PasTotCmp%\", \"TklDri%\"]\n",
    "defender_features_sum = [\"Tkl\", \"TklWon\", \"TklDef3rd\", \"TklMid3rd\", \"TklAtt3rd\", \"TklDri\", \"TklDriAtt\", \"TklDri%\", \"TklDriPast\", \"Blocks\", \n",
    "                     \"BlkSh\", \"Int\", \"Recov\", \"AerWon\", \"AerLost\", \"AerWon%\"]\n",
    "defender_features_max = [\"AerWon%\"]"
   ]
  },
  {
   "cell_type": "markdown",
   "id": "94244fe2",
   "metadata": {
    "papermill": {
     "duration": 0.010286,
     "end_time": "2023-07-18T13:20:09.162367",
     "exception": false,
     "start_time": "2023-07-18T13:20:09.152081",
     "status": "completed"
    },
    "tags": []
   },
   "source": [
    "# Data preprocessing"
   ]
  },
  {
   "cell_type": "code",
   "execution_count": 7,
   "id": "6c667b0e",
   "metadata": {
    "execution": {
     "iopub.execute_input": "2023-07-18T13:20:09.185371Z",
     "iopub.status.busy": "2023-07-18T13:20:09.184716Z",
     "iopub.status.idle": "2023-07-18T13:20:09.294662Z",
     "shell.execute_reply": "2023-07-18T13:20:09.293722Z"
    },
    "papermill": {
     "duration": 0.124423,
     "end_time": "2023-07-18T13:20:09.297208",
     "exception": false,
     "start_time": "2023-07-18T13:20:09.172785",
     "status": "completed"
    },
    "tags": []
   },
   "outputs": [],
   "source": [
    "df_2022 = pd.read_csv(\"/kaggle/input/20222023-football-player-stats/2022-2023 Football Player Stats.csv\", encoding='ISO-8859-1', delimiter=';')"
   ]
  },
  {
   "cell_type": "code",
   "execution_count": 8,
   "id": "21338cc9",
   "metadata": {
    "execution": {
     "iopub.execute_input": "2023-07-18T13:20:09.320433Z",
     "iopub.status.busy": "2023-07-18T13:20:09.319684Z",
     "iopub.status.idle": "2023-07-18T13:20:09.334389Z",
     "shell.execute_reply": "2023-07-18T13:20:09.333213Z"
    },
    "papermill": {
     "duration": 0.029523,
     "end_time": "2023-07-18T13:20:09.337153",
     "exception": false,
     "start_time": "2023-07-18T13:20:09.307630",
     "status": "completed"
    },
    "tags": []
   },
   "outputs": [],
   "source": [
    "def player_unify(df):\n",
    "    \n",
    "    all_players = list(df[\"Player\"].values)\n",
    "    columns = list(df.columns)\n",
    "    sum_list = forward_features_sum + midfielder_features_sum + defender_features_sum\n",
    "    max_list = forward_features_max + midfielder_features_max + defender_features_max\n",
    "    \n",
    "    playercnt_dict = {}\n",
    "    for i in range(len(all_players)):\n",
    "        if all_players[i] not in playercnt_dict.keys():\n",
    "            playercnt_dict[all_players[i]] = 1\n",
    "        else:\n",
    "            playercnt_dict[all_players[i]] += 1\n",
    "            \n",
    "    player_switchclub = []\n",
    "    for x in playercnt_dict.keys():\n",
    "        if playercnt_dict[x] >= 2:\n",
    "            player_switchclub.append(x)\n",
    "            \n",
    "    player_new_dict = {}\n",
    "    df_result = df\n",
    "    for i in range(len(player_switchclub)):\n",
    "        player_new = []\n",
    "        player_old = df[df[\"Player\"] == player_switchclub[i]].values\n",
    "        for j in range(len(columns)):\n",
    "            if columns[j] == \"Squad\":\n",
    "                new_input = []\n",
    "                for k in range(player_old.shape[0]):\n",
    "                    new_input.append(player_old[k, j])\n",
    "                player_new.append(new_input)\n",
    "            elif columns[j] in sum_list:\n",
    "                new_input = 0\n",
    "                for k in range(player_old.shape[0]):\n",
    "                    new_input += player_old[k, j]\n",
    "                player_new.append(new_input)\n",
    "            elif columns[j] in max_list:\n",
    "                new_input = []\n",
    "                for k in range(player_old.shape[0]):\n",
    "                    new_input.append(player_old[k, j])\n",
    "                player_new.append(max(new_input))\n",
    "            else:\n",
    "                player_new.append(player_old[0, j])\n",
    "        player_new_dict[player_switchclub[i]] = player_new\n",
    "        df_result = df_result.drop(df_result[df_result['Player'] == player_switchclub[i]].index)\n",
    "    df_unify = pd.DataFrame(player_new_dict)\n",
    "    df_unify = df_unify.transpose().reset_index(drop=True)\n",
    "    df_unify.columns = columns\n",
    "    df_result = pd.concat([df_result, df_unify], axis=0)\n",
    "    \n",
    "    return df_result"
   ]
  },
  {
   "cell_type": "code",
   "execution_count": 9,
   "id": "d195de1a",
   "metadata": {
    "execution": {
     "iopub.execute_input": "2023-07-18T13:20:09.360500Z",
     "iopub.status.busy": "2023-07-18T13:20:09.359749Z",
     "iopub.status.idle": "2023-07-18T13:20:09.978049Z",
     "shell.execute_reply": "2023-07-18T13:20:09.976740Z"
    },
    "papermill": {
     "duration": 0.63318,
     "end_time": "2023-07-18T13:20:09.980952",
     "exception": false,
     "start_time": "2023-07-18T13:20:09.347772",
     "status": "completed"
    },
    "tags": []
   },
   "outputs": [],
   "source": [
    "df_players = player_unify(df_2022)\n",
    "df_players = df_players.reset_index()\n",
    "df_players.drop(\"index\", axis=1, inplace=True)\n",
    "del df_2022"
   ]
  },
  {
   "cell_type": "code",
   "execution_count": 10,
   "id": "0cf79d15",
   "metadata": {
    "execution": {
     "iopub.execute_input": "2023-07-18T13:20:10.003955Z",
     "iopub.status.busy": "2023-07-18T13:20:10.003540Z",
     "iopub.status.idle": "2023-07-18T13:20:10.048986Z",
     "shell.execute_reply": "2023-07-18T13:20:10.047928Z"
    },
    "papermill": {
     "duration": 0.060507,
     "end_time": "2023-07-18T13:20:10.051833",
     "exception": false,
     "start_time": "2023-07-18T13:20:09.991326",
     "status": "completed"
    },
    "tags": []
   },
   "outputs": [],
   "source": [
    "scaler = MinMaxScaler()\n",
    "df_radar = scaler.fit_transform(df_players[goals_info + passes_info + skill_info + defense_info])\n",
    "df_players.drop([\"Rk\"], axis=1, inplace=True)\n",
    "df_radar = pd.concat([df_players[[\"Player\"]], pd.DataFrame(df_radar)], axis=1)\n",
    "df_radar.columns = [\"Player\"] + goals_info + passes_info + skill_info + defense_info"
   ]
  },
  {
   "cell_type": "code",
   "execution_count": 11,
   "id": "4482c145",
   "metadata": {
    "execution": {
     "iopub.execute_input": "2023-07-18T13:20:10.075504Z",
     "iopub.status.busy": "2023-07-18T13:20:10.075130Z",
     "iopub.status.idle": "2023-07-18T13:20:10.085395Z",
     "shell.execute_reply": "2023-07-18T13:20:10.084299Z"
    },
    "papermill": {
     "duration": 0.024214,
     "end_time": "2023-07-18T13:20:10.087623",
     "exception": false,
     "start_time": "2023-07-18T13:20:10.063409",
     "status": "completed"
    },
    "tags": []
   },
   "outputs": [],
   "source": [
    "all_players = list(df_players[\"Player\"].values)\n",
    "all_leagues = list(np.unique(df_players[\"Comp\"].values))\n",
    "all_leagues = list(np.unique(df_players[\"Pos\"].values))"
   ]
  },
  {
   "cell_type": "markdown",
   "id": "60e91868",
   "metadata": {
    "papermill": {
     "duration": 0.009995,
     "end_time": "2023-07-18T13:20:10.108327",
     "exception": false,
     "start_time": "2023-07-18T13:20:10.098332",
     "status": "completed"
    },
    "tags": []
   },
   "source": [
    "# Modeling"
   ]
  },
  {
   "cell_type": "code",
   "execution_count": 12,
   "id": "5e15e662",
   "metadata": {
    "execution": {
     "iopub.execute_input": "2023-07-18T13:20:10.132062Z",
     "iopub.status.busy": "2023-07-18T13:20:10.131276Z",
     "iopub.status.idle": "2023-07-18T13:20:10.700378Z",
     "shell.execute_reply": "2023-07-18T13:20:10.698977Z"
    },
    "papermill": {
     "duration": 0.584848,
     "end_time": "2023-07-18T13:20:10.703541",
     "exception": false,
     "start_time": "2023-07-18T13:20:10.118693",
     "status": "completed"
    },
    "tags": []
   },
   "outputs": [],
   "source": [
    "from sklearn.cluster import KMeans\n",
    "km_striker = KMeans(n_clusters=5)\n",
    "km_midfield = KMeans(n_clusters=5)\n",
    "km_defender = KMeans(n_clusters=5)\n",
    "km_gk = KMeans(n_clusters=5)"
   ]
  },
  {
   "cell_type": "code",
   "execution_count": 13,
   "id": "12e24fb9",
   "metadata": {
    "execution": {
     "iopub.execute_input": "2023-07-18T13:20:10.726287Z",
     "iopub.status.busy": "2023-07-18T13:20:10.725879Z",
     "iopub.status.idle": "2023-07-18T13:20:10.735615Z",
     "shell.execute_reply": "2023-07-18T13:20:10.734145Z"
    },
    "papermill": {
     "duration": 0.024006,
     "end_time": "2023-07-18T13:20:10.738055",
     "exception": false,
     "start_time": "2023-07-18T13:20:10.714049",
     "status": "completed"
    },
    "tags": []
   },
   "outputs": [],
   "source": [
    "def kmeans_position(df, position, cluster, features):\n",
    "    '''\n",
    "    Train a KMeans model to cluster players at each position\n",
    "    '''\n",
    "    kmeans = KMeans(n_clusters=cluster)\n",
    "    df_position = df_players[(df_players[\"Pos\"]==position)]\n",
    "    kmeans.fit(df_position.iloc[:, 6:][features])\n",
    "    position_pred = kmeans.predict(df_position.iloc[:, 6:][features])\n",
    "    df_position.loc[:,\"Class\"] = position_pred\n",
    "    return df_position\n",
    "\n",
    "def kmeans_general_position(df, general_position, cluster, features):\n",
    "    '''\n",
    "    Train a KMeans model to cluster players at each general position\n",
    "    like striker, midfield, defender, or goalkeeper\n",
    "    '''\n",
    "    df_positions = []\n",
    "\n",
    "    for i in range(len(general_position)):\n",
    "        df_position = kmeans_position(df, general_position[i], cluster, features)\n",
    "        df_positions.append(df_position)\n",
    "    return df_positions"
   ]
  },
  {
   "cell_type": "code",
   "execution_count": 14,
   "id": "812ea203",
   "metadata": {
    "execution": {
     "iopub.execute_input": "2023-07-18T13:20:10.761169Z",
     "iopub.status.busy": "2023-07-18T13:20:10.760754Z",
     "iopub.status.idle": "2023-07-18T13:20:10.766011Z",
     "shell.execute_reply": "2023-07-18T13:20:10.764890Z"
    },
    "papermill": {
     "duration": 0.019822,
     "end_time": "2023-07-18T13:20:10.768458",
     "exception": false,
     "start_time": "2023-07-18T13:20:10.748636",
     "status": "completed"
    },
    "tags": []
   },
   "outputs": [],
   "source": [
    "striker_position = [\"FW\", \"FWMF\", \"FWDF\"]\n",
    "midfield_position = [\"MF\", \"MFDF\", \"MFFW\"]\n",
    "defender_position = [\"DF\", \"DFMF\", \"DFFW\"]\n",
    "gk_position = [\"GK\"]"
   ]
  },
  {
   "cell_type": "code",
   "execution_count": 15,
   "id": "78cc0b1e",
   "metadata": {
    "execution": {
     "iopub.execute_input": "2023-07-18T13:20:10.791097Z",
     "iopub.status.busy": "2023-07-18T13:20:10.790689Z",
     "iopub.status.idle": "2023-07-18T13:20:13.761132Z",
     "shell.execute_reply": "2023-07-18T13:20:13.757667Z"
    },
    "papermill": {
     "duration": 2.98728,
     "end_time": "2023-07-18T13:20:13.766091",
     "exception": false,
     "start_time": "2023-07-18T13:20:10.778811",
     "status": "completed"
    },
    "tags": []
   },
   "outputs": [
    {
     "name": "stderr",
     "output_type": "stream",
     "text": [
      "/opt/conda/lib/python3.10/site-packages/sklearn/cluster/_kmeans.py:870: FutureWarning: The default value of `n_init` will change from 10 to 'auto' in 1.4. Set the value of `n_init` explicitly to suppress the warning\n",
      "  warnings.warn(\n",
      "/tmp/ipykernel_20/2913747191.py:9: SettingWithCopyWarning: \n",
      "A value is trying to be set on a copy of a slice from a DataFrame.\n",
      "Try using .loc[row_indexer,col_indexer] = value instead\n",
      "\n",
      "See the caveats in the documentation: https://pandas.pydata.org/pandas-docs/stable/user_guide/indexing.html#returning-a-view-versus-a-copy\n",
      "  df_position.loc[:,\"Class\"] = position_pred\n",
      "/opt/conda/lib/python3.10/site-packages/sklearn/cluster/_kmeans.py:870: FutureWarning: The default value of `n_init` will change from 10 to 'auto' in 1.4. Set the value of `n_init` explicitly to suppress the warning\n",
      "  warnings.warn(\n",
      "/tmp/ipykernel_20/2913747191.py:9: SettingWithCopyWarning: \n",
      "A value is trying to be set on a copy of a slice from a DataFrame.\n",
      "Try using .loc[row_indexer,col_indexer] = value instead\n",
      "\n",
      "See the caveats in the documentation: https://pandas.pydata.org/pandas-docs/stable/user_guide/indexing.html#returning-a-view-versus-a-copy\n",
      "  df_position.loc[:,\"Class\"] = position_pred\n",
      "/opt/conda/lib/python3.10/site-packages/sklearn/cluster/_kmeans.py:870: FutureWarning: The default value of `n_init` will change from 10 to 'auto' in 1.4. Set the value of `n_init` explicitly to suppress the warning\n",
      "  warnings.warn(\n",
      "/tmp/ipykernel_20/2913747191.py:9: SettingWithCopyWarning: \n",
      "A value is trying to be set on a copy of a slice from a DataFrame.\n",
      "Try using .loc[row_indexer,col_indexer] = value instead\n",
      "\n",
      "See the caveats in the documentation: https://pandas.pydata.org/pandas-docs/stable/user_guide/indexing.html#returning-a-view-versus-a-copy\n",
      "  df_position.loc[:,\"Class\"] = position_pred\n",
      "/opt/conda/lib/python3.10/site-packages/sklearn/cluster/_kmeans.py:870: FutureWarning: The default value of `n_init` will change from 10 to 'auto' in 1.4. Set the value of `n_init` explicitly to suppress the warning\n",
      "  warnings.warn(\n",
      "/tmp/ipykernel_20/2913747191.py:9: SettingWithCopyWarning: \n",
      "A value is trying to be set on a copy of a slice from a DataFrame.\n",
      "Try using .loc[row_indexer,col_indexer] = value instead\n",
      "\n",
      "See the caveats in the documentation: https://pandas.pydata.org/pandas-docs/stable/user_guide/indexing.html#returning-a-view-versus-a-copy\n",
      "  df_position.loc[:,\"Class\"] = position_pred\n",
      "/opt/conda/lib/python3.10/site-packages/sklearn/cluster/_kmeans.py:870: FutureWarning: The default value of `n_init` will change from 10 to 'auto' in 1.4. Set the value of `n_init` explicitly to suppress the warning\n",
      "  warnings.warn(\n",
      "/tmp/ipykernel_20/2913747191.py:9: SettingWithCopyWarning: \n",
      "A value is trying to be set on a copy of a slice from a DataFrame.\n",
      "Try using .loc[row_indexer,col_indexer] = value instead\n",
      "\n",
      "See the caveats in the documentation: https://pandas.pydata.org/pandas-docs/stable/user_guide/indexing.html#returning-a-view-versus-a-copy\n",
      "  df_position.loc[:,\"Class\"] = position_pred\n",
      "/opt/conda/lib/python3.10/site-packages/sklearn/cluster/_kmeans.py:870: FutureWarning: The default value of `n_init` will change from 10 to 'auto' in 1.4. Set the value of `n_init` explicitly to suppress the warning\n",
      "  warnings.warn(\n",
      "/tmp/ipykernel_20/2913747191.py:9: SettingWithCopyWarning: \n",
      "A value is trying to be set on a copy of a slice from a DataFrame.\n",
      "Try using .loc[row_indexer,col_indexer] = value instead\n",
      "\n",
      "See the caveats in the documentation: https://pandas.pydata.org/pandas-docs/stable/user_guide/indexing.html#returning-a-view-versus-a-copy\n",
      "  df_position.loc[:,\"Class\"] = position_pred\n",
      "/opt/conda/lib/python3.10/site-packages/sklearn/cluster/_kmeans.py:870: FutureWarning: The default value of `n_init` will change from 10 to 'auto' in 1.4. Set the value of `n_init` explicitly to suppress the warning\n",
      "  warnings.warn(\n",
      "/tmp/ipykernel_20/2913747191.py:9: SettingWithCopyWarning: \n",
      "A value is trying to be set on a copy of a slice from a DataFrame.\n",
      "Try using .loc[row_indexer,col_indexer] = value instead\n",
      "\n",
      "See the caveats in the documentation: https://pandas.pydata.org/pandas-docs/stable/user_guide/indexing.html#returning-a-view-versus-a-copy\n",
      "  df_position.loc[:,\"Class\"] = position_pred\n",
      "/opt/conda/lib/python3.10/site-packages/sklearn/cluster/_kmeans.py:870: FutureWarning: The default value of `n_init` will change from 10 to 'auto' in 1.4. Set the value of `n_init` explicitly to suppress the warning\n",
      "  warnings.warn(\n",
      "/tmp/ipykernel_20/2913747191.py:9: SettingWithCopyWarning: \n",
      "A value is trying to be set on a copy of a slice from a DataFrame.\n",
      "Try using .loc[row_indexer,col_indexer] = value instead\n",
      "\n",
      "See the caveats in the documentation: https://pandas.pydata.org/pandas-docs/stable/user_guide/indexing.html#returning-a-view-versus-a-copy\n",
      "  df_position.loc[:,\"Class\"] = position_pred\n",
      "/opt/conda/lib/python3.10/site-packages/sklearn/cluster/_kmeans.py:870: FutureWarning: The default value of `n_init` will change from 10 to 'auto' in 1.4. Set the value of `n_init` explicitly to suppress the warning\n",
      "  warnings.warn(\n",
      "/tmp/ipykernel_20/2913747191.py:9: SettingWithCopyWarning: \n",
      "A value is trying to be set on a copy of a slice from a DataFrame.\n",
      "Try using .loc[row_indexer,col_indexer] = value instead\n",
      "\n",
      "See the caveats in the documentation: https://pandas.pydata.org/pandas-docs/stable/user_guide/indexing.html#returning-a-view-versus-a-copy\n",
      "  df_position.loc[:,\"Class\"] = position_pred\n",
      "/opt/conda/lib/python3.10/site-packages/sklearn/cluster/_kmeans.py:870: FutureWarning: The default value of `n_init` will change from 10 to 'auto' in 1.4. Set the value of `n_init` explicitly to suppress the warning\n",
      "  warnings.warn(\n",
      "/tmp/ipykernel_20/2913747191.py:9: SettingWithCopyWarning: \n",
      "A value is trying to be set on a copy of a slice from a DataFrame.\n",
      "Try using .loc[row_indexer,col_indexer] = value instead\n",
      "\n",
      "See the caveats in the documentation: https://pandas.pydata.org/pandas-docs/stable/user_guide/indexing.html#returning-a-view-versus-a-copy\n",
      "  df_position.loc[:,\"Class\"] = position_pred\n"
     ]
    }
   ],
   "source": [
    "df_striker = kmeans_general_position(df_players, striker_position, 5, playing_time + forward_features)\n",
    "df_midfield = kmeans_general_position(df_players, midfield_position, 5, playing_time + midfielder_features)\n",
    "df_defender = kmeans_general_position(df_players, defender_position, 5, playing_time + defender_features)\n",
    "df_gk = kmeans_general_position(df_players, gk_position, 5, list(df_players.columns)[6:])"
   ]
  },
  {
   "cell_type": "code",
   "execution_count": 16,
   "id": "f393bafd",
   "metadata": {
    "execution": {
     "iopub.execute_input": "2023-07-18T13:20:13.816321Z",
     "iopub.status.busy": "2023-07-18T13:20:13.815739Z",
     "iopub.status.idle": "2023-07-18T13:20:13.835756Z",
     "shell.execute_reply": "2023-07-18T13:20:13.834351Z"
    },
    "papermill": {
     "duration": 0.048888,
     "end_time": "2023-07-18T13:20:13.838810",
     "exception": false,
     "start_time": "2023-07-18T13:20:13.789922",
     "status": "completed"
    },
    "tags": []
   },
   "outputs": [],
   "source": [
    "df_striker = pd.concat(df_striker, axis=0)\n",
    "df_midfield = pd.concat(df_midfield, axis=0)\n",
    "df_defender = pd.concat(df_defender, axis=0)\n",
    "df_gk = pd.concat(df_gk, axis=0)"
   ]
  },
  {
   "cell_type": "code",
   "execution_count": 17,
   "id": "5e5784cf",
   "metadata": {
    "execution": {
     "iopub.execute_input": "2023-07-18T13:20:13.862765Z",
     "iopub.status.busy": "2023-07-18T13:20:13.862281Z",
     "iopub.status.idle": "2023-07-18T13:20:13.878404Z",
     "shell.execute_reply": "2023-07-18T13:20:13.877134Z"
    },
    "papermill": {
     "duration": 0.030933,
     "end_time": "2023-07-18T13:20:13.880874",
     "exception": false,
     "start_time": "2023-07-18T13:20:13.849941",
     "status": "completed"
    },
    "tags": []
   },
   "outputs": [],
   "source": [
    "df_players = pd.concat([df_striker, df_midfield, df_defender, df_gk], axis=0)"
   ]
  },
  {
   "cell_type": "code",
   "execution_count": 18,
   "id": "256ecaf6",
   "metadata": {
    "execution": {
     "iopub.execute_input": "2023-07-18T13:20:13.904585Z",
     "iopub.status.busy": "2023-07-18T13:20:13.904216Z",
     "iopub.status.idle": "2023-07-18T13:20:16.291055Z",
     "shell.execute_reply": "2023-07-18T13:20:16.289811Z"
    },
    "papermill": {
     "duration": 2.401907,
     "end_time": "2023-07-18T13:20:16.293735",
     "exception": false,
     "start_time": "2023-07-18T13:20:13.891828",
     "status": "completed"
    },
    "tags": []
   },
   "outputs": [],
   "source": [
    "class_column = []\n",
    "for i in range(df_radar.shape[0]):\n",
    "    class_column.append(df_players[df_players[\"Player\"] == df_radar.iloc[i,0]][\"Class\"].values[0])"
   ]
  },
  {
   "cell_type": "code",
   "execution_count": 19,
   "id": "f6ab9ae3",
   "metadata": {
    "execution": {
     "iopub.execute_input": "2023-07-18T13:20:16.317536Z",
     "iopub.status.busy": "2023-07-18T13:20:16.317153Z",
     "iopub.status.idle": "2023-07-18T13:20:16.351405Z",
     "shell.execute_reply": "2023-07-18T13:20:16.349978Z"
    },
    "papermill": {
     "duration": 0.049571,
     "end_time": "2023-07-18T13:20:16.354333",
     "exception": false,
     "start_time": "2023-07-18T13:20:16.304762",
     "status": "completed"
    },
    "tags": []
   },
   "outputs": [],
   "source": [
    "df_radar[\"Class\"] = class_column"
   ]
  },
  {
   "cell_type": "code",
   "execution_count": 20,
   "id": "ae80dcce",
   "metadata": {
    "execution": {
     "iopub.execute_input": "2023-07-18T13:20:16.378542Z",
     "iopub.status.busy": "2023-07-18T13:20:16.378141Z",
     "iopub.status.idle": "2023-07-18T13:20:16.386677Z",
     "shell.execute_reply": "2023-07-18T13:20:16.385366Z"
    },
    "papermill": {
     "duration": 0.023695,
     "end_time": "2023-07-18T13:20:16.389342",
     "exception": false,
     "start_time": "2023-07-18T13:20:16.365647",
     "status": "completed"
    },
    "tags": []
   },
   "outputs": [],
   "source": [
    "del df_striker\n",
    "del df_midfield\n",
    "del df_defender\n",
    "del df_gk"
   ]
  },
  {
   "cell_type": "code",
   "execution_count": 21,
   "id": "e38ee399",
   "metadata": {
    "execution": {
     "iopub.execute_input": "2023-07-18T13:20:16.414020Z",
     "iopub.status.busy": "2023-07-18T13:20:16.413597Z",
     "iopub.status.idle": "2023-07-18T13:20:16.732530Z",
     "shell.execute_reply": "2023-07-18T13:20:16.731292Z"
    },
    "papermill": {
     "duration": 0.33555,
     "end_time": "2023-07-18T13:20:16.735760",
     "exception": false,
     "start_time": "2023-07-18T13:20:16.400210",
     "status": "completed"
    },
    "tags": []
   },
   "outputs": [],
   "source": [
    "df_players.to_csv(\"players.csv\")"
   ]
  },
  {
   "cell_type": "code",
   "execution_count": 22,
   "id": "a363a648",
   "metadata": {
    "execution": {
     "iopub.execute_input": "2023-07-18T13:20:16.761494Z",
     "iopub.status.busy": "2023-07-18T13:20:16.761043Z",
     "iopub.status.idle": "2023-07-18T13:20:17.009592Z",
     "shell.execute_reply": "2023-07-18T13:20:17.008382Z"
    },
    "papermill": {
     "duration": 0.265003,
     "end_time": "2023-07-18T13:20:17.012673",
     "exception": false,
     "start_time": "2023-07-18T13:20:16.747670",
     "status": "completed"
    },
    "tags": []
   },
   "outputs": [],
   "source": [
    "df_radar.to_csv(\"radar.csv\")"
   ]
  },
  {
   "cell_type": "code",
   "execution_count": 23,
   "id": "aa85af99",
   "metadata": {
    "execution": {
     "iopub.execute_input": "2023-07-18T13:20:17.039167Z",
     "iopub.status.busy": "2023-07-18T13:20:17.038546Z",
     "iopub.status.idle": "2023-07-18T13:20:17.045750Z",
     "shell.execute_reply": "2023-07-18T13:20:17.044594Z"
    },
    "papermill": {
     "duration": 0.023819,
     "end_time": "2023-07-18T13:20:17.048371",
     "exception": false,
     "start_time": "2023-07-18T13:20:17.024552",
     "status": "completed"
    },
    "tags": []
   },
   "outputs": [],
   "source": [
    "cluster_dictionary = [\"green\", \"red\", \"purple\", \"steelblue\", \"gold\"]"
   ]
  },
  {
   "cell_type": "markdown",
   "id": "56ed4017",
   "metadata": {
    "papermill": {
     "duration": 0.010775,
     "end_time": "2023-07-18T13:20:17.070182",
     "exception": false,
     "start_time": "2023-07-18T13:20:17.059407",
     "status": "completed"
    },
    "tags": []
   },
   "source": [
    "# Plotting"
   ]
  },
  {
   "cell_type": "code",
   "execution_count": 24,
   "id": "ce87da2a",
   "metadata": {
    "execution": {
     "iopub.execute_input": "2023-07-18T13:20:17.094278Z",
     "iopub.status.busy": "2023-07-18T13:20:17.093884Z",
     "iopub.status.idle": "2023-07-18T13:20:17.112887Z",
     "shell.execute_reply": "2023-07-18T13:20:17.111455Z"
    },
    "papermill": {
     "duration": 0.034617,
     "end_time": "2023-07-18T13:20:17.115781",
     "exception": false,
     "start_time": "2023-07-18T13:20:17.081164",
     "status": "completed"
    },
    "tags": []
   },
   "outputs": [],
   "source": [
    "def get_info(player_name, attribute, df):\n",
    "    '''\n",
    "    Get information attribute given the player name and a list of attributes\n",
    "    '''\n",
    "    if player_name not in all_players:\n",
    "        return \"No player found\"\n",
    "    \n",
    "    return df[df[\"Player\"] == player_name][attribute], list(df[df[\"Player\"] == player_name][\"Class\"].values)[0]\n",
    "\n",
    "def attribute_description(attribute):\n",
    "    '''\n",
    "    Get the description of each attribute inside the list\n",
    "    '''\n",
    "    description = []\n",
    "    for i in range(len(attribute)):\n",
    "        description.append(acronyms[attribute[i]])\n",
    "    return description\n",
    "\n",
    "def plot_players_right(player_name, attribute, df):\n",
    "    '''\n",
    "    Plot the player attribute given the player name, attribute, and desired year\n",
    "    '''\n",
    "    \n",
    "    if player_name not in all_players:\n",
    "        return \"No player found\"\n",
    "    \n",
    "    player, color = get_info(player_name, attribute, df)\n",
    "    description = attribute_description(attribute)\n",
    "    \n",
    "    fig = go.Figure(go.Bar(\n",
    "            x=player.values[0],\n",
    "            y=description,\n",
    "            orientation='h',\n",
    "            marker=dict(\n",
    "            color=cluster_dictionary[color],\n",
    "            line=dict(color='black', width=0.5)\n",
    "        )))\n",
    "    \n",
    "    fig.update_layout(\n",
    "        yaxis_title=\"Features\",\n",
    "        xaxis=dict(side='top'),\n",
    "        plot_bgcolor='rgba(0,0,0,0)',\n",
    "        bargap=0.1,\n",
    "        height=500\n",
    "    )\n",
    "    \n",
    "    fig.show()\n",
    "    \n",
    "def plot_players_left(player_name, attribute, df):\n",
    "    '''\n",
    "    Plot the player attribute given the player name, attribute, and desired year\n",
    "    '''\n",
    "    \n",
    "    if player_name not in all_players:\n",
    "        return \"No player found\"\n",
    "    \n",
    "    player, color = get_info(player_name, attribute, df)\n",
    "    description = attribute_description(attribute)\n",
    "    \n",
    "    fig = go.Figure(go.Bar(\n",
    "            x=player.values[0],\n",
    "            y=description,\n",
    "            orientation='h',\n",
    "            marker=dict(\n",
    "            color=cluster_dictionary[color],\n",
    "            line=dict(color='black', width=0.5)\n",
    "        )))\n",
    "\n",
    "    fig.update_layout(\n",
    "        xaxis = dict(side='top', range=[max(player.values[0]), 0]),\n",
    "        yaxis = dict(side='right'),\n",
    "        plot_bgcolor='rgba(0,0,0,0)',\n",
    "        bargap=0.1,\n",
    "        height=500)\n",
    "\n",
    "    fig.show()\n",
    "\n",
    "def plot_radar(player_name,df):\n",
    "    '''\n",
    "    Plot radar chart\n",
    "    '''\n",
    "    \n",
    "    if player_name not in all_players:\n",
    "        return \"No player found\"\n",
    "    \n",
    "    player_info, color = get_info(player_name, goals_bestfeatures + passes_bestfeatures + skill_bestfeatures + defense_bestfeatures, df)\n",
    "    \n",
    "    new_column = attribute_description(player_info.columns)\n",
    "    player_info.columns = new_column\n",
    "    \n",
    "    fig = px.line_polar(player_info, r=list(player_info.values[0]), theta=list(player_info.columns), line_close=True)\n",
    "    fig.update_layout(polar=dict(radialaxis=dict(range=[0, 1], showticklabels=False)), plot_bgcolor='white')\n",
    "    fig.update_traces(fill='toself', fillcolor=cluster_dictionary[color], line_color='black', opacity=0.8)\n",
    "    fig.show()"
   ]
  },
  {
   "cell_type": "code",
   "execution_count": 25,
   "id": "b116bdc3",
   "metadata": {
    "execution": {
     "iopub.execute_input": "2023-07-18T13:20:17.141957Z",
     "iopub.status.busy": "2023-07-18T13:20:17.141270Z",
     "iopub.status.idle": "2023-07-18T13:20:17.368600Z",
     "shell.execute_reply": "2023-07-18T13:20:17.367518Z"
    },
    "papermill": {
     "duration": 0.243799,
     "end_time": "2023-07-18T13:20:17.371076",
     "exception": false,
     "start_time": "2023-07-18T13:20:17.127277",
     "status": "completed"
    },
    "tags": []
   },
   "outputs": [
    {
     "data": {
      "text/html": [
       "        <script type=\"text/javascript\">\n",
       "        window.PlotlyConfig = {MathJaxConfig: 'local'};\n",
       "        if (window.MathJax && window.MathJax.Hub && window.MathJax.Hub.Config) {window.MathJax.Hub.Config({SVG: {font: \"STIX-Web\"}});}\n",
       "        if (typeof require !== 'undefined') {\n",
       "        require.undef(\"plotly\");\n",
       "        requirejs.config({\n",
       "            paths: {\n",
       "                'plotly': ['https://cdn.plot.ly/plotly-2.20.0.min']\n",
       "            }\n",
       "        });\n",
       "        require(['plotly'], function(Plotly) {\n",
       "            window._Plotly = Plotly;\n",
       "        });\n",
       "        }\n",
       "        </script>\n",
       "        "
      ]
     },
     "metadata": {},
     "output_type": "display_data"
    },
    {
     "data": {
      "text/html": [
       "<div>                            <div id=\"45134b60-43a1-490a-9561-4756d26bffb8\" class=\"plotly-graph-div\" style=\"height:500px; width:100%;\"></div>            <script type=\"text/javascript\">                require([\"plotly\"], function(Plotly) {                    window.PLOTLYENV=window.PLOTLYENV || {};                                    if (document.getElementById(\"45134b60-43a1-490a-9561-4756d26bffb8\")) {                    Plotly.newPlot(                        \"45134b60-43a1-490a-9561-4756d26bffb8\",                        [{\"marker\":{\"color\":\"steelblue\",\"line\":{\"color\":\"black\",\"width\":0.5}},\"orientation\":\"h\",\"x\":[13,4.42,2.21,0.15,0.31,16.2,0.25,0.49,4.11,1.17,0.06,0.0,0.37,3.01,10.8,4.17,1.17],\"y\":[\"Goals scored or allowed\",\"Shots total (Does not include penalty kicks)\",\"Shots on target (Does not include penalty kicks)\",\"Goals per shot\",\"Goals per shot on target (Does not include penalty kicks)\",\"Average distance, in yards, from goal of all shots taken (Does not include penalty kicks)\",\"Penalty kicks attempted\",\"Goal-creating actions\",\"Shot-creating actions\",\"Offsides\",\"Penalty kicks won\",\"Penalty kicks conceded\",\"Successful dribbles that lead to a shot attempt\",\"Completed live-ball passes that lead to a shot attempt\",\"Touches in attacking penalty area\",\"Carries that enter the 1/3 of the pitch closest to the goal\",\"Fouls drawn\"],\"type\":\"bar\"}],                        {\"template\":{\"data\":{\"histogram2dcontour\":[{\"type\":\"histogram2dcontour\",\"colorbar\":{\"outlinewidth\":0,\"ticks\":\"\"},\"colorscale\":[[0.0,\"#0d0887\"],[0.1111111111111111,\"#46039f\"],[0.2222222222222222,\"#7201a8\"],[0.3333333333333333,\"#9c179e\"],[0.4444444444444444,\"#bd3786\"],[0.5555555555555556,\"#d8576b\"],[0.6666666666666666,\"#ed7953\"],[0.7777777777777778,\"#fb9f3a\"],[0.8888888888888888,\"#fdca26\"],[1.0,\"#f0f921\"]]}],\"choropleth\":[{\"type\":\"choropleth\",\"colorbar\":{\"outlinewidth\":0,\"ticks\":\"\"}}],\"histogram2d\":[{\"type\":\"histogram2d\",\"colorbar\":{\"outlinewidth\":0,\"ticks\":\"\"},\"colorscale\":[[0.0,\"#0d0887\"],[0.1111111111111111,\"#46039f\"],[0.2222222222222222,\"#7201a8\"],[0.3333333333333333,\"#9c179e\"],[0.4444444444444444,\"#bd3786\"],[0.5555555555555556,\"#d8576b\"],[0.6666666666666666,\"#ed7953\"],[0.7777777777777778,\"#fb9f3a\"],[0.8888888888888888,\"#fdca26\"],[1.0,\"#f0f921\"]]}],\"heatmap\":[{\"type\":\"heatmap\",\"colorbar\":{\"outlinewidth\":0,\"ticks\":\"\"},\"colorscale\":[[0.0,\"#0d0887\"],[0.1111111111111111,\"#46039f\"],[0.2222222222222222,\"#7201a8\"],[0.3333333333333333,\"#9c179e\"],[0.4444444444444444,\"#bd3786\"],[0.5555555555555556,\"#d8576b\"],[0.6666666666666666,\"#ed7953\"],[0.7777777777777778,\"#fb9f3a\"],[0.8888888888888888,\"#fdca26\"],[1.0,\"#f0f921\"]]}],\"heatmapgl\":[{\"type\":\"heatmapgl\",\"colorbar\":{\"outlinewidth\":0,\"ticks\":\"\"},\"colorscale\":[[0.0,\"#0d0887\"],[0.1111111111111111,\"#46039f\"],[0.2222222222222222,\"#7201a8\"],[0.3333333333333333,\"#9c179e\"],[0.4444444444444444,\"#bd3786\"],[0.5555555555555556,\"#d8576b\"],[0.6666666666666666,\"#ed7953\"],[0.7777777777777778,\"#fb9f3a\"],[0.8888888888888888,\"#fdca26\"],[1.0,\"#f0f921\"]]}],\"contourcarpet\":[{\"type\":\"contourcarpet\",\"colorbar\":{\"outlinewidth\":0,\"ticks\":\"\"}}],\"contour\":[{\"type\":\"contour\",\"colorbar\":{\"outlinewidth\":0,\"ticks\":\"\"},\"colorscale\":[[0.0,\"#0d0887\"],[0.1111111111111111,\"#46039f\"],[0.2222222222222222,\"#7201a8\"],[0.3333333333333333,\"#9c179e\"],[0.4444444444444444,\"#bd3786\"],[0.5555555555555556,\"#d8576b\"],[0.6666666666666666,\"#ed7953\"],[0.7777777777777778,\"#fb9f3a\"],[0.8888888888888888,\"#fdca26\"],[1.0,\"#f0f921\"]]}],\"surface\":[{\"type\":\"surface\",\"colorbar\":{\"outlinewidth\":0,\"ticks\":\"\"},\"colorscale\":[[0.0,\"#0d0887\"],[0.1111111111111111,\"#46039f\"],[0.2222222222222222,\"#7201a8\"],[0.3333333333333333,\"#9c179e\"],[0.4444444444444444,\"#bd3786\"],[0.5555555555555556,\"#d8576b\"],[0.6666666666666666,\"#ed7953\"],[0.7777777777777778,\"#fb9f3a\"],[0.8888888888888888,\"#fdca26\"],[1.0,\"#f0f921\"]]}],\"mesh3d\":[{\"type\":\"mesh3d\",\"colorbar\":{\"outlinewidth\":0,\"ticks\":\"\"}}],\"scatter\":[{\"fillpattern\":{\"fillmode\":\"overlay\",\"size\":10,\"solidity\":0.2},\"type\":\"scatter\"}],\"parcoords\":[{\"type\":\"parcoords\",\"line\":{\"colorbar\":{\"outlinewidth\":0,\"ticks\":\"\"}}}],\"scatterpolargl\":[{\"type\":\"scatterpolargl\",\"marker\":{\"colorbar\":{\"outlinewidth\":0,\"ticks\":\"\"}}}],\"bar\":[{\"error_x\":{\"color\":\"#2a3f5f\"},\"error_y\":{\"color\":\"#2a3f5f\"},\"marker\":{\"line\":{\"color\":\"#E5ECF6\",\"width\":0.5},\"pattern\":{\"fillmode\":\"overlay\",\"size\":10,\"solidity\":0.2}},\"type\":\"bar\"}],\"scattergeo\":[{\"type\":\"scattergeo\",\"marker\":{\"colorbar\":{\"outlinewidth\":0,\"ticks\":\"\"}}}],\"scatterpolar\":[{\"type\":\"scatterpolar\",\"marker\":{\"colorbar\":{\"outlinewidth\":0,\"ticks\":\"\"}}}],\"histogram\":[{\"marker\":{\"pattern\":{\"fillmode\":\"overlay\",\"size\":10,\"solidity\":0.2}},\"type\":\"histogram\"}],\"scattergl\":[{\"type\":\"scattergl\",\"marker\":{\"colorbar\":{\"outlinewidth\":0,\"ticks\":\"\"}}}],\"scatter3d\":[{\"type\":\"scatter3d\",\"line\":{\"colorbar\":{\"outlinewidth\":0,\"ticks\":\"\"}},\"marker\":{\"colorbar\":{\"outlinewidth\":0,\"ticks\":\"\"}}}],\"scattermapbox\":[{\"type\":\"scattermapbox\",\"marker\":{\"colorbar\":{\"outlinewidth\":0,\"ticks\":\"\"}}}],\"scatterternary\":[{\"type\":\"scatterternary\",\"marker\":{\"colorbar\":{\"outlinewidth\":0,\"ticks\":\"\"}}}],\"scattercarpet\":[{\"type\":\"scattercarpet\",\"marker\":{\"colorbar\":{\"outlinewidth\":0,\"ticks\":\"\"}}}],\"carpet\":[{\"aaxis\":{\"endlinecolor\":\"#2a3f5f\",\"gridcolor\":\"white\",\"linecolor\":\"white\",\"minorgridcolor\":\"white\",\"startlinecolor\":\"#2a3f5f\"},\"baxis\":{\"endlinecolor\":\"#2a3f5f\",\"gridcolor\":\"white\",\"linecolor\":\"white\",\"minorgridcolor\":\"white\",\"startlinecolor\":\"#2a3f5f\"},\"type\":\"carpet\"}],\"table\":[{\"cells\":{\"fill\":{\"color\":\"#EBF0F8\"},\"line\":{\"color\":\"white\"}},\"header\":{\"fill\":{\"color\":\"#C8D4E3\"},\"line\":{\"color\":\"white\"}},\"type\":\"table\"}],\"barpolar\":[{\"marker\":{\"line\":{\"color\":\"#E5ECF6\",\"width\":0.5},\"pattern\":{\"fillmode\":\"overlay\",\"size\":10,\"solidity\":0.2}},\"type\":\"barpolar\"}],\"pie\":[{\"automargin\":true,\"type\":\"pie\"}]},\"layout\":{\"autotypenumbers\":\"strict\",\"colorway\":[\"#636efa\",\"#EF553B\",\"#00cc96\",\"#ab63fa\",\"#FFA15A\",\"#19d3f3\",\"#FF6692\",\"#B6E880\",\"#FF97FF\",\"#FECB52\"],\"font\":{\"color\":\"#2a3f5f\"},\"hovermode\":\"closest\",\"hoverlabel\":{\"align\":\"left\"},\"paper_bgcolor\":\"white\",\"plot_bgcolor\":\"#E5ECF6\",\"polar\":{\"bgcolor\":\"#E5ECF6\",\"angularaxis\":{\"gridcolor\":\"white\",\"linecolor\":\"white\",\"ticks\":\"\"},\"radialaxis\":{\"gridcolor\":\"white\",\"linecolor\":\"white\",\"ticks\":\"\"}},\"ternary\":{\"bgcolor\":\"#E5ECF6\",\"aaxis\":{\"gridcolor\":\"white\",\"linecolor\":\"white\",\"ticks\":\"\"},\"baxis\":{\"gridcolor\":\"white\",\"linecolor\":\"white\",\"ticks\":\"\"},\"caxis\":{\"gridcolor\":\"white\",\"linecolor\":\"white\",\"ticks\":\"\"}},\"coloraxis\":{\"colorbar\":{\"outlinewidth\":0,\"ticks\":\"\"}},\"colorscale\":{\"sequential\":[[0.0,\"#0d0887\"],[0.1111111111111111,\"#46039f\"],[0.2222222222222222,\"#7201a8\"],[0.3333333333333333,\"#9c179e\"],[0.4444444444444444,\"#bd3786\"],[0.5555555555555556,\"#d8576b\"],[0.6666666666666666,\"#ed7953\"],[0.7777777777777778,\"#fb9f3a\"],[0.8888888888888888,\"#fdca26\"],[1.0,\"#f0f921\"]],\"sequentialminus\":[[0.0,\"#0d0887\"],[0.1111111111111111,\"#46039f\"],[0.2222222222222222,\"#7201a8\"],[0.3333333333333333,\"#9c179e\"],[0.4444444444444444,\"#bd3786\"],[0.5555555555555556,\"#d8576b\"],[0.6666666666666666,\"#ed7953\"],[0.7777777777777778,\"#fb9f3a\"],[0.8888888888888888,\"#fdca26\"],[1.0,\"#f0f921\"]],\"diverging\":[[0,\"#8e0152\"],[0.1,\"#c51b7d\"],[0.2,\"#de77ae\"],[0.3,\"#f1b6da\"],[0.4,\"#fde0ef\"],[0.5,\"#f7f7f7\"],[0.6,\"#e6f5d0\"],[0.7,\"#b8e186\"],[0.8,\"#7fbc41\"],[0.9,\"#4d9221\"],[1,\"#276419\"]]},\"xaxis\":{\"gridcolor\":\"white\",\"linecolor\":\"white\",\"ticks\":\"\",\"title\":{\"standoff\":15},\"zerolinecolor\":\"white\",\"automargin\":true,\"zerolinewidth\":2},\"yaxis\":{\"gridcolor\":\"white\",\"linecolor\":\"white\",\"ticks\":\"\",\"title\":{\"standoff\":15},\"zerolinecolor\":\"white\",\"automargin\":true,\"zerolinewidth\":2},\"scene\":{\"xaxis\":{\"backgroundcolor\":\"#E5ECF6\",\"gridcolor\":\"white\",\"linecolor\":\"white\",\"showbackground\":true,\"ticks\":\"\",\"zerolinecolor\":\"white\",\"gridwidth\":2},\"yaxis\":{\"backgroundcolor\":\"#E5ECF6\",\"gridcolor\":\"white\",\"linecolor\":\"white\",\"showbackground\":true,\"ticks\":\"\",\"zerolinecolor\":\"white\",\"gridwidth\":2},\"zaxis\":{\"backgroundcolor\":\"#E5ECF6\",\"gridcolor\":\"white\",\"linecolor\":\"white\",\"showbackground\":true,\"ticks\":\"\",\"zerolinecolor\":\"white\",\"gridwidth\":2}},\"shapedefaults\":{\"line\":{\"color\":\"#2a3f5f\"}},\"annotationdefaults\":{\"arrowcolor\":\"#2a3f5f\",\"arrowhead\":0,\"arrowwidth\":1},\"geo\":{\"bgcolor\":\"white\",\"landcolor\":\"#E5ECF6\",\"subunitcolor\":\"white\",\"showland\":true,\"showlakes\":true,\"lakecolor\":\"white\"},\"title\":{\"x\":0.05},\"mapbox\":{\"style\":\"light\"}}},\"xaxis\":{\"side\":\"top\"},\"yaxis\":{\"title\":{\"text\":\"Features\"}},\"plot_bgcolor\":\"rgba(0,0,0,0)\",\"bargap\":0.1,\"height\":500},                        {\"responsive\": true}                    ).then(function(){\n",
       "                            \n",
       "var gd = document.getElementById('45134b60-43a1-490a-9561-4756d26bffb8');\n",
       "var x = new MutationObserver(function (mutations, observer) {{\n",
       "        var display = window.getComputedStyle(gd).display;\n",
       "        if (!display || display === 'none') {{\n",
       "            console.log([gd, 'removed!']);\n",
       "            Plotly.purge(gd);\n",
       "            observer.disconnect();\n",
       "        }}\n",
       "}});\n",
       "\n",
       "// Listen for the removal of the full notebook cells\n",
       "var notebookContainer = gd.closest('#notebook-container');\n",
       "if (notebookContainer) {{\n",
       "    x.observe(notebookContainer, {childList: true});\n",
       "}}\n",
       "\n",
       "// Listen for the clearing of the current output cell\n",
       "var outputEl = gd.closest('.output');\n",
       "if (outputEl) {{\n",
       "    x.observe(outputEl, {childList: true});\n",
       "}}\n",
       "\n",
       "                        })                };                });            </script>        </div>"
      ]
     },
     "metadata": {},
     "output_type": "display_data"
    }
   ],
   "source": [
    "plot_players_right(\"Kylian Mbappé\", forward_features, df_players)"
   ]
  },
  {
   "cell_type": "code",
   "execution_count": 26,
   "id": "629f91cb",
   "metadata": {
    "execution": {
     "iopub.execute_input": "2023-07-18T13:20:17.395360Z",
     "iopub.status.busy": "2023-07-18T13:20:17.394960Z",
     "iopub.status.idle": "2023-07-18T13:20:19.323000Z",
     "shell.execute_reply": "2023-07-18T13:20:19.321579Z"
    },
    "papermill": {
     "duration": 1.943307,
     "end_time": "2023-07-18T13:20:19.325699",
     "exception": false,
     "start_time": "2023-07-18T13:20:17.382392",
     "status": "completed"
    },
    "tags": []
   },
   "outputs": [
    {
     "name": "stderr",
     "output_type": "stream",
     "text": [
      "/opt/conda/lib/python3.10/site-packages/plotly/express/_core.py:271: FutureWarning:\n",
      "\n",
      "The frame.append method is deprecated and will be removed from pandas in a future version. Use pandas.concat instead.\n",
      "\n"
     ]
    },
    {
     "data": {
      "text/html": [
       "<div>                            <div id=\"edaef5e5-54c2-4229-9ec5-ffa54c716dc9\" class=\"plotly-graph-div\" style=\"height:525px; width:100%;\"></div>            <script type=\"text/javascript\">                require([\"plotly\"], function(Plotly) {                    window.PLOTLYENV=window.PLOTLYENV || {};                                    if (document.getElementById(\"edaef5e5-54c2-4229-9ec5-ffa54c716dc9\")) {                    Plotly.newPlot(                        \"edaef5e5-54c2-4229-9ec5-ffa54c716dc9\",                        [{\"hovertemplate\":\"r=%{r}<br>theta=%{theta}<extra></extra>\",\"legendgroup\":\"\",\"line\":{\"color\":\"black\",\"dash\":\"solid\"},\"marker\":{\"symbol\":\"circle\"},\"mode\":\"lines\",\"name\":\"\",\"r\":[0.52,0.29466666666666663,0.21311475409836064,0.14297872340425533,0.012,0.137,0.137,0.037,0.0134315424610052,0.016453382084095063,0.52],\"showlegend\":false,\"subplot\":\"polar\",\"theta\":[\"Goals scored or allowed\",\"Shots total (Does not include penalty kicks)\",\"Shots on target (Does not include penalty kicks)\",\"Passes completed\",\"Assists\",\"Shot-creating actions\",\"Shot-creating actions\",\"Successful dribbles that lead to a shot attempt\",\"Number of players tackled\",\"Interceptions\",\"Goals scored or allowed\"],\"type\":\"scatterpolar\",\"fill\":\"toself\",\"fillcolor\":\"steelblue\",\"opacity\":0.8}],                        {\"template\":{\"data\":{\"histogram2dcontour\":[{\"type\":\"histogram2dcontour\",\"colorbar\":{\"outlinewidth\":0,\"ticks\":\"\"},\"colorscale\":[[0.0,\"#0d0887\"],[0.1111111111111111,\"#46039f\"],[0.2222222222222222,\"#7201a8\"],[0.3333333333333333,\"#9c179e\"],[0.4444444444444444,\"#bd3786\"],[0.5555555555555556,\"#d8576b\"],[0.6666666666666666,\"#ed7953\"],[0.7777777777777778,\"#fb9f3a\"],[0.8888888888888888,\"#fdca26\"],[1.0,\"#f0f921\"]]}],\"choropleth\":[{\"type\":\"choropleth\",\"colorbar\":{\"outlinewidth\":0,\"ticks\":\"\"}}],\"histogram2d\":[{\"type\":\"histogram2d\",\"colorbar\":{\"outlinewidth\":0,\"ticks\":\"\"},\"colorscale\":[[0.0,\"#0d0887\"],[0.1111111111111111,\"#46039f\"],[0.2222222222222222,\"#7201a8\"],[0.3333333333333333,\"#9c179e\"],[0.4444444444444444,\"#bd3786\"],[0.5555555555555556,\"#d8576b\"],[0.6666666666666666,\"#ed7953\"],[0.7777777777777778,\"#fb9f3a\"],[0.8888888888888888,\"#fdca26\"],[1.0,\"#f0f921\"]]}],\"heatmap\":[{\"type\":\"heatmap\",\"colorbar\":{\"outlinewidth\":0,\"ticks\":\"\"},\"colorscale\":[[0.0,\"#0d0887\"],[0.1111111111111111,\"#46039f\"],[0.2222222222222222,\"#7201a8\"],[0.3333333333333333,\"#9c179e\"],[0.4444444444444444,\"#bd3786\"],[0.5555555555555556,\"#d8576b\"],[0.6666666666666666,\"#ed7953\"],[0.7777777777777778,\"#fb9f3a\"],[0.8888888888888888,\"#fdca26\"],[1.0,\"#f0f921\"]]}],\"heatmapgl\":[{\"type\":\"heatmapgl\",\"colorbar\":{\"outlinewidth\":0,\"ticks\":\"\"},\"colorscale\":[[0.0,\"#0d0887\"],[0.1111111111111111,\"#46039f\"],[0.2222222222222222,\"#7201a8\"],[0.3333333333333333,\"#9c179e\"],[0.4444444444444444,\"#bd3786\"],[0.5555555555555556,\"#d8576b\"],[0.6666666666666666,\"#ed7953\"],[0.7777777777777778,\"#fb9f3a\"],[0.8888888888888888,\"#fdca26\"],[1.0,\"#f0f921\"]]}],\"contourcarpet\":[{\"type\":\"contourcarpet\",\"colorbar\":{\"outlinewidth\":0,\"ticks\":\"\"}}],\"contour\":[{\"type\":\"contour\",\"colorbar\":{\"outlinewidth\":0,\"ticks\":\"\"},\"colorscale\":[[0.0,\"#0d0887\"],[0.1111111111111111,\"#46039f\"],[0.2222222222222222,\"#7201a8\"],[0.3333333333333333,\"#9c179e\"],[0.4444444444444444,\"#bd3786\"],[0.5555555555555556,\"#d8576b\"],[0.6666666666666666,\"#ed7953\"],[0.7777777777777778,\"#fb9f3a\"],[0.8888888888888888,\"#fdca26\"],[1.0,\"#f0f921\"]]}],\"surface\":[{\"type\":\"surface\",\"colorbar\":{\"outlinewidth\":0,\"ticks\":\"\"},\"colorscale\":[[0.0,\"#0d0887\"],[0.1111111111111111,\"#46039f\"],[0.2222222222222222,\"#7201a8\"],[0.3333333333333333,\"#9c179e\"],[0.4444444444444444,\"#bd3786\"],[0.5555555555555556,\"#d8576b\"],[0.6666666666666666,\"#ed7953\"],[0.7777777777777778,\"#fb9f3a\"],[0.8888888888888888,\"#fdca26\"],[1.0,\"#f0f921\"]]}],\"mesh3d\":[{\"type\":\"mesh3d\",\"colorbar\":{\"outlinewidth\":0,\"ticks\":\"\"}}],\"scatter\":[{\"fillpattern\":{\"fillmode\":\"overlay\",\"size\":10,\"solidity\":0.2},\"type\":\"scatter\"}],\"parcoords\":[{\"type\":\"parcoords\",\"line\":{\"colorbar\":{\"outlinewidth\":0,\"ticks\":\"\"}}}],\"scatterpolargl\":[{\"type\":\"scatterpolargl\",\"marker\":{\"colorbar\":{\"outlinewidth\":0,\"ticks\":\"\"}}}],\"bar\":[{\"error_x\":{\"color\":\"#2a3f5f\"},\"error_y\":{\"color\":\"#2a3f5f\"},\"marker\":{\"line\":{\"color\":\"#E5ECF6\",\"width\":0.5},\"pattern\":{\"fillmode\":\"overlay\",\"size\":10,\"solidity\":0.2}},\"type\":\"bar\"}],\"scattergeo\":[{\"type\":\"scattergeo\",\"marker\":{\"colorbar\":{\"outlinewidth\":0,\"ticks\":\"\"}}}],\"scatterpolar\":[{\"type\":\"scatterpolar\",\"marker\":{\"colorbar\":{\"outlinewidth\":0,\"ticks\":\"\"}}}],\"histogram\":[{\"marker\":{\"pattern\":{\"fillmode\":\"overlay\",\"size\":10,\"solidity\":0.2}},\"type\":\"histogram\"}],\"scattergl\":[{\"type\":\"scattergl\",\"marker\":{\"colorbar\":{\"outlinewidth\":0,\"ticks\":\"\"}}}],\"scatter3d\":[{\"type\":\"scatter3d\",\"line\":{\"colorbar\":{\"outlinewidth\":0,\"ticks\":\"\"}},\"marker\":{\"colorbar\":{\"outlinewidth\":0,\"ticks\":\"\"}}}],\"scattermapbox\":[{\"type\":\"scattermapbox\",\"marker\":{\"colorbar\":{\"outlinewidth\":0,\"ticks\":\"\"}}}],\"scatterternary\":[{\"type\":\"scatterternary\",\"marker\":{\"colorbar\":{\"outlinewidth\":0,\"ticks\":\"\"}}}],\"scattercarpet\":[{\"type\":\"scattercarpet\",\"marker\":{\"colorbar\":{\"outlinewidth\":0,\"ticks\":\"\"}}}],\"carpet\":[{\"aaxis\":{\"endlinecolor\":\"#2a3f5f\",\"gridcolor\":\"white\",\"linecolor\":\"white\",\"minorgridcolor\":\"white\",\"startlinecolor\":\"#2a3f5f\"},\"baxis\":{\"endlinecolor\":\"#2a3f5f\",\"gridcolor\":\"white\",\"linecolor\":\"white\",\"minorgridcolor\":\"white\",\"startlinecolor\":\"#2a3f5f\"},\"type\":\"carpet\"}],\"table\":[{\"cells\":{\"fill\":{\"color\":\"#EBF0F8\"},\"line\":{\"color\":\"white\"}},\"header\":{\"fill\":{\"color\":\"#C8D4E3\"},\"line\":{\"color\":\"white\"}},\"type\":\"table\"}],\"barpolar\":[{\"marker\":{\"line\":{\"color\":\"#E5ECF6\",\"width\":0.5},\"pattern\":{\"fillmode\":\"overlay\",\"size\":10,\"solidity\":0.2}},\"type\":\"barpolar\"}],\"pie\":[{\"automargin\":true,\"type\":\"pie\"}]},\"layout\":{\"autotypenumbers\":\"strict\",\"colorway\":[\"#636efa\",\"#EF553B\",\"#00cc96\",\"#ab63fa\",\"#FFA15A\",\"#19d3f3\",\"#FF6692\",\"#B6E880\",\"#FF97FF\",\"#FECB52\"],\"font\":{\"color\":\"#2a3f5f\"},\"hovermode\":\"closest\",\"hoverlabel\":{\"align\":\"left\"},\"paper_bgcolor\":\"white\",\"plot_bgcolor\":\"#E5ECF6\",\"polar\":{\"bgcolor\":\"#E5ECF6\",\"angularaxis\":{\"gridcolor\":\"white\",\"linecolor\":\"white\",\"ticks\":\"\"},\"radialaxis\":{\"gridcolor\":\"white\",\"linecolor\":\"white\",\"ticks\":\"\"}},\"ternary\":{\"bgcolor\":\"#E5ECF6\",\"aaxis\":{\"gridcolor\":\"white\",\"linecolor\":\"white\",\"ticks\":\"\"},\"baxis\":{\"gridcolor\":\"white\",\"linecolor\":\"white\",\"ticks\":\"\"},\"caxis\":{\"gridcolor\":\"white\",\"linecolor\":\"white\",\"ticks\":\"\"}},\"coloraxis\":{\"colorbar\":{\"outlinewidth\":0,\"ticks\":\"\"}},\"colorscale\":{\"sequential\":[[0.0,\"#0d0887\"],[0.1111111111111111,\"#46039f\"],[0.2222222222222222,\"#7201a8\"],[0.3333333333333333,\"#9c179e\"],[0.4444444444444444,\"#bd3786\"],[0.5555555555555556,\"#d8576b\"],[0.6666666666666666,\"#ed7953\"],[0.7777777777777778,\"#fb9f3a\"],[0.8888888888888888,\"#fdca26\"],[1.0,\"#f0f921\"]],\"sequentialminus\":[[0.0,\"#0d0887\"],[0.1111111111111111,\"#46039f\"],[0.2222222222222222,\"#7201a8\"],[0.3333333333333333,\"#9c179e\"],[0.4444444444444444,\"#bd3786\"],[0.5555555555555556,\"#d8576b\"],[0.6666666666666666,\"#ed7953\"],[0.7777777777777778,\"#fb9f3a\"],[0.8888888888888888,\"#fdca26\"],[1.0,\"#f0f921\"]],\"diverging\":[[0,\"#8e0152\"],[0.1,\"#c51b7d\"],[0.2,\"#de77ae\"],[0.3,\"#f1b6da\"],[0.4,\"#fde0ef\"],[0.5,\"#f7f7f7\"],[0.6,\"#e6f5d0\"],[0.7,\"#b8e186\"],[0.8,\"#7fbc41\"],[0.9,\"#4d9221\"],[1,\"#276419\"]]},\"xaxis\":{\"gridcolor\":\"white\",\"linecolor\":\"white\",\"ticks\":\"\",\"title\":{\"standoff\":15},\"zerolinecolor\":\"white\",\"automargin\":true,\"zerolinewidth\":2},\"yaxis\":{\"gridcolor\":\"white\",\"linecolor\":\"white\",\"ticks\":\"\",\"title\":{\"standoff\":15},\"zerolinecolor\":\"white\",\"automargin\":true,\"zerolinewidth\":2},\"scene\":{\"xaxis\":{\"backgroundcolor\":\"#E5ECF6\",\"gridcolor\":\"white\",\"linecolor\":\"white\",\"showbackground\":true,\"ticks\":\"\",\"zerolinecolor\":\"white\",\"gridwidth\":2},\"yaxis\":{\"backgroundcolor\":\"#E5ECF6\",\"gridcolor\":\"white\",\"linecolor\":\"white\",\"showbackground\":true,\"ticks\":\"\",\"zerolinecolor\":\"white\",\"gridwidth\":2},\"zaxis\":{\"backgroundcolor\":\"#E5ECF6\",\"gridcolor\":\"white\",\"linecolor\":\"white\",\"showbackground\":true,\"ticks\":\"\",\"zerolinecolor\":\"white\",\"gridwidth\":2}},\"shapedefaults\":{\"line\":{\"color\":\"#2a3f5f\"}},\"annotationdefaults\":{\"arrowcolor\":\"#2a3f5f\",\"arrowhead\":0,\"arrowwidth\":1},\"geo\":{\"bgcolor\":\"white\",\"landcolor\":\"#E5ECF6\",\"subunitcolor\":\"white\",\"showland\":true,\"showlakes\":true,\"lakecolor\":\"white\"},\"title\":{\"x\":0.05},\"mapbox\":{\"style\":\"light\"}}},\"polar\":{\"domain\":{\"x\":[0.0,1.0],\"y\":[0.0,1.0]},\"angularaxis\":{\"direction\":\"clockwise\",\"rotation\":90},\"radialaxis\":{\"range\":[0,1],\"showticklabels\":false}},\"legend\":{\"tracegroupgap\":0},\"margin\":{\"t\":60},\"plot_bgcolor\":\"white\"},                        {\"responsive\": true}                    ).then(function(){\n",
       "                            \n",
       "var gd = document.getElementById('edaef5e5-54c2-4229-9ec5-ffa54c716dc9');\n",
       "var x = new MutationObserver(function (mutations, observer) {{\n",
       "        var display = window.getComputedStyle(gd).display;\n",
       "        if (!display || display === 'none') {{\n",
       "            console.log([gd, 'removed!']);\n",
       "            Plotly.purge(gd);\n",
       "            observer.disconnect();\n",
       "        }}\n",
       "}});\n",
       "\n",
       "// Listen for the removal of the full notebook cells\n",
       "var notebookContainer = gd.closest('#notebook-container');\n",
       "if (notebookContainer) {{\n",
       "    x.observe(notebookContainer, {childList: true});\n",
       "}}\n",
       "\n",
       "// Listen for the clearing of the current output cell\n",
       "var outputEl = gd.closest('.output');\n",
       "if (outputEl) {{\n",
       "    x.observe(outputEl, {childList: true});\n",
       "}}\n",
       "\n",
       "                        })                };                });            </script>        </div>"
      ]
     },
     "metadata": {},
     "output_type": "display_data"
    }
   ],
   "source": [
    "plot_radar(\"Kylian Mbappé\", df_radar)"
   ]
  },
  {
   "cell_type": "code",
   "execution_count": 27,
   "id": "7818bc31",
   "metadata": {
    "execution": {
     "iopub.execute_input": "2023-07-18T13:20:19.351499Z",
     "iopub.status.busy": "2023-07-18T13:20:19.351081Z",
     "iopub.status.idle": "2023-07-18T13:20:19.375988Z",
     "shell.execute_reply": "2023-07-18T13:20:19.374801Z"
    },
    "papermill": {
     "duration": 0.040867,
     "end_time": "2023-07-18T13:20:19.378651",
     "exception": false,
     "start_time": "2023-07-18T13:20:19.337784",
     "status": "completed"
    },
    "tags": []
   },
   "outputs": [
    {
     "data": {
      "text/html": [
       "<div>                            <div id=\"6acb0a23-af1b-4082-87e8-47bee157b62d\" class=\"plotly-graph-div\" style=\"height:500px; width:100%;\"></div>            <script type=\"text/javascript\">                require([\"plotly\"], function(Plotly) {                    window.PLOTLYENV=window.PLOTLYENV || {};                                    if (document.getElementById(\"6acb0a23-af1b-4082-87e8-47bee157b62d\")) {                    Plotly.newPlot(                        \"6acb0a23-af1b-4082-87e8-47bee157b62d\",                        [{\"marker\":{\"color\":\"steelblue\",\"line\":{\"color\":\"black\",\"width\":0.5}},\"orientation\":\"h\",\"x\":[25,3.85,1.98,0.3,0.58,12.6,0.22,0.38,2.03,0.27,0.05,0.0,0.11,1.43,7.53,0.27,0.82],\"y\":[\"Goals scored or allowed\",\"Shots total (Does not include penalty kicks)\",\"Shots on target (Does not include penalty kicks)\",\"Goals per shot\",\"Goals per shot on target (Does not include penalty kicks)\",\"Average distance, in yards, from goal of all shots taken (Does not include penalty kicks)\",\"Penalty kicks attempted\",\"Goal-creating actions\",\"Shot-creating actions\",\"Offsides\",\"Penalty kicks won\",\"Penalty kicks conceded\",\"Successful dribbles that lead to a shot attempt\",\"Completed live-ball passes that lead to a shot attempt\",\"Touches in attacking penalty area\",\"Carries that enter the 1/3 of the pitch closest to the goal\",\"Fouls drawn\"],\"type\":\"bar\"}],                        {\"template\":{\"data\":{\"histogram2dcontour\":[{\"type\":\"histogram2dcontour\",\"colorbar\":{\"outlinewidth\":0,\"ticks\":\"\"},\"colorscale\":[[0.0,\"#0d0887\"],[0.1111111111111111,\"#46039f\"],[0.2222222222222222,\"#7201a8\"],[0.3333333333333333,\"#9c179e\"],[0.4444444444444444,\"#bd3786\"],[0.5555555555555556,\"#d8576b\"],[0.6666666666666666,\"#ed7953\"],[0.7777777777777778,\"#fb9f3a\"],[0.8888888888888888,\"#fdca26\"],[1.0,\"#f0f921\"]]}],\"choropleth\":[{\"type\":\"choropleth\",\"colorbar\":{\"outlinewidth\":0,\"ticks\":\"\"}}],\"histogram2d\":[{\"type\":\"histogram2d\",\"colorbar\":{\"outlinewidth\":0,\"ticks\":\"\"},\"colorscale\":[[0.0,\"#0d0887\"],[0.1111111111111111,\"#46039f\"],[0.2222222222222222,\"#7201a8\"],[0.3333333333333333,\"#9c179e\"],[0.4444444444444444,\"#bd3786\"],[0.5555555555555556,\"#d8576b\"],[0.6666666666666666,\"#ed7953\"],[0.7777777777777778,\"#fb9f3a\"],[0.8888888888888888,\"#fdca26\"],[1.0,\"#f0f921\"]]}],\"heatmap\":[{\"type\":\"heatmap\",\"colorbar\":{\"outlinewidth\":0,\"ticks\":\"\"},\"colorscale\":[[0.0,\"#0d0887\"],[0.1111111111111111,\"#46039f\"],[0.2222222222222222,\"#7201a8\"],[0.3333333333333333,\"#9c179e\"],[0.4444444444444444,\"#bd3786\"],[0.5555555555555556,\"#d8576b\"],[0.6666666666666666,\"#ed7953\"],[0.7777777777777778,\"#fb9f3a\"],[0.8888888888888888,\"#fdca26\"],[1.0,\"#f0f921\"]]}],\"heatmapgl\":[{\"type\":\"heatmapgl\",\"colorbar\":{\"outlinewidth\":0,\"ticks\":\"\"},\"colorscale\":[[0.0,\"#0d0887\"],[0.1111111111111111,\"#46039f\"],[0.2222222222222222,\"#7201a8\"],[0.3333333333333333,\"#9c179e\"],[0.4444444444444444,\"#bd3786\"],[0.5555555555555556,\"#d8576b\"],[0.6666666666666666,\"#ed7953\"],[0.7777777777777778,\"#fb9f3a\"],[0.8888888888888888,\"#fdca26\"],[1.0,\"#f0f921\"]]}],\"contourcarpet\":[{\"type\":\"contourcarpet\",\"colorbar\":{\"outlinewidth\":0,\"ticks\":\"\"}}],\"contour\":[{\"type\":\"contour\",\"colorbar\":{\"outlinewidth\":0,\"ticks\":\"\"},\"colorscale\":[[0.0,\"#0d0887\"],[0.1111111111111111,\"#46039f\"],[0.2222222222222222,\"#7201a8\"],[0.3333333333333333,\"#9c179e\"],[0.4444444444444444,\"#bd3786\"],[0.5555555555555556,\"#d8576b\"],[0.6666666666666666,\"#ed7953\"],[0.7777777777777778,\"#fb9f3a\"],[0.8888888888888888,\"#fdca26\"],[1.0,\"#f0f921\"]]}],\"surface\":[{\"type\":\"surface\",\"colorbar\":{\"outlinewidth\":0,\"ticks\":\"\"},\"colorscale\":[[0.0,\"#0d0887\"],[0.1111111111111111,\"#46039f\"],[0.2222222222222222,\"#7201a8\"],[0.3333333333333333,\"#9c179e\"],[0.4444444444444444,\"#bd3786\"],[0.5555555555555556,\"#d8576b\"],[0.6666666666666666,\"#ed7953\"],[0.7777777777777778,\"#fb9f3a\"],[0.8888888888888888,\"#fdca26\"],[1.0,\"#f0f921\"]]}],\"mesh3d\":[{\"type\":\"mesh3d\",\"colorbar\":{\"outlinewidth\":0,\"ticks\":\"\"}}],\"scatter\":[{\"fillpattern\":{\"fillmode\":\"overlay\",\"size\":10,\"solidity\":0.2},\"type\":\"scatter\"}],\"parcoords\":[{\"type\":\"parcoords\",\"line\":{\"colorbar\":{\"outlinewidth\":0,\"ticks\":\"\"}}}],\"scatterpolargl\":[{\"type\":\"scatterpolargl\",\"marker\":{\"colorbar\":{\"outlinewidth\":0,\"ticks\":\"\"}}}],\"bar\":[{\"error_x\":{\"color\":\"#2a3f5f\"},\"error_y\":{\"color\":\"#2a3f5f\"},\"marker\":{\"line\":{\"color\":\"#E5ECF6\",\"width\":0.5},\"pattern\":{\"fillmode\":\"overlay\",\"size\":10,\"solidity\":0.2}},\"type\":\"bar\"}],\"scattergeo\":[{\"type\":\"scattergeo\",\"marker\":{\"colorbar\":{\"outlinewidth\":0,\"ticks\":\"\"}}}],\"scatterpolar\":[{\"type\":\"scatterpolar\",\"marker\":{\"colorbar\":{\"outlinewidth\":0,\"ticks\":\"\"}}}],\"histogram\":[{\"marker\":{\"pattern\":{\"fillmode\":\"overlay\",\"size\":10,\"solidity\":0.2}},\"type\":\"histogram\"}],\"scattergl\":[{\"type\":\"scattergl\",\"marker\":{\"colorbar\":{\"outlinewidth\":0,\"ticks\":\"\"}}}],\"scatter3d\":[{\"type\":\"scatter3d\",\"line\":{\"colorbar\":{\"outlinewidth\":0,\"ticks\":\"\"}},\"marker\":{\"colorbar\":{\"outlinewidth\":0,\"ticks\":\"\"}}}],\"scattermapbox\":[{\"type\":\"scattermapbox\",\"marker\":{\"colorbar\":{\"outlinewidth\":0,\"ticks\":\"\"}}}],\"scatterternary\":[{\"type\":\"scatterternary\",\"marker\":{\"colorbar\":{\"outlinewidth\":0,\"ticks\":\"\"}}}],\"scattercarpet\":[{\"type\":\"scattercarpet\",\"marker\":{\"colorbar\":{\"outlinewidth\":0,\"ticks\":\"\"}}}],\"carpet\":[{\"aaxis\":{\"endlinecolor\":\"#2a3f5f\",\"gridcolor\":\"white\",\"linecolor\":\"white\",\"minorgridcolor\":\"white\",\"startlinecolor\":\"#2a3f5f\"},\"baxis\":{\"endlinecolor\":\"#2a3f5f\",\"gridcolor\":\"white\",\"linecolor\":\"white\",\"minorgridcolor\":\"white\",\"startlinecolor\":\"#2a3f5f\"},\"type\":\"carpet\"}],\"table\":[{\"cells\":{\"fill\":{\"color\":\"#EBF0F8\"},\"line\":{\"color\":\"white\"}},\"header\":{\"fill\":{\"color\":\"#C8D4E3\"},\"line\":{\"color\":\"white\"}},\"type\":\"table\"}],\"barpolar\":[{\"marker\":{\"line\":{\"color\":\"#E5ECF6\",\"width\":0.5},\"pattern\":{\"fillmode\":\"overlay\",\"size\":10,\"solidity\":0.2}},\"type\":\"barpolar\"}],\"pie\":[{\"automargin\":true,\"type\":\"pie\"}]},\"layout\":{\"autotypenumbers\":\"strict\",\"colorway\":[\"#636efa\",\"#EF553B\",\"#00cc96\",\"#ab63fa\",\"#FFA15A\",\"#19d3f3\",\"#FF6692\",\"#B6E880\",\"#FF97FF\",\"#FECB52\"],\"font\":{\"color\":\"#2a3f5f\"},\"hovermode\":\"closest\",\"hoverlabel\":{\"align\":\"left\"},\"paper_bgcolor\":\"white\",\"plot_bgcolor\":\"#E5ECF6\",\"polar\":{\"bgcolor\":\"#E5ECF6\",\"angularaxis\":{\"gridcolor\":\"white\",\"linecolor\":\"white\",\"ticks\":\"\"},\"radialaxis\":{\"gridcolor\":\"white\",\"linecolor\":\"white\",\"ticks\":\"\"}},\"ternary\":{\"bgcolor\":\"#E5ECF6\",\"aaxis\":{\"gridcolor\":\"white\",\"linecolor\":\"white\",\"ticks\":\"\"},\"baxis\":{\"gridcolor\":\"white\",\"linecolor\":\"white\",\"ticks\":\"\"},\"caxis\":{\"gridcolor\":\"white\",\"linecolor\":\"white\",\"ticks\":\"\"}},\"coloraxis\":{\"colorbar\":{\"outlinewidth\":0,\"ticks\":\"\"}},\"colorscale\":{\"sequential\":[[0.0,\"#0d0887\"],[0.1111111111111111,\"#46039f\"],[0.2222222222222222,\"#7201a8\"],[0.3333333333333333,\"#9c179e\"],[0.4444444444444444,\"#bd3786\"],[0.5555555555555556,\"#d8576b\"],[0.6666666666666666,\"#ed7953\"],[0.7777777777777778,\"#fb9f3a\"],[0.8888888888888888,\"#fdca26\"],[1.0,\"#f0f921\"]],\"sequentialminus\":[[0.0,\"#0d0887\"],[0.1111111111111111,\"#46039f\"],[0.2222222222222222,\"#7201a8\"],[0.3333333333333333,\"#9c179e\"],[0.4444444444444444,\"#bd3786\"],[0.5555555555555556,\"#d8576b\"],[0.6666666666666666,\"#ed7953\"],[0.7777777777777778,\"#fb9f3a\"],[0.8888888888888888,\"#fdca26\"],[1.0,\"#f0f921\"]],\"diverging\":[[0,\"#8e0152\"],[0.1,\"#c51b7d\"],[0.2,\"#de77ae\"],[0.3,\"#f1b6da\"],[0.4,\"#fde0ef\"],[0.5,\"#f7f7f7\"],[0.6,\"#e6f5d0\"],[0.7,\"#b8e186\"],[0.8,\"#7fbc41\"],[0.9,\"#4d9221\"],[1,\"#276419\"]]},\"xaxis\":{\"gridcolor\":\"white\",\"linecolor\":\"white\",\"ticks\":\"\",\"title\":{\"standoff\":15},\"zerolinecolor\":\"white\",\"automargin\":true,\"zerolinewidth\":2},\"yaxis\":{\"gridcolor\":\"white\",\"linecolor\":\"white\",\"ticks\":\"\",\"title\":{\"standoff\":15},\"zerolinecolor\":\"white\",\"automargin\":true,\"zerolinewidth\":2},\"scene\":{\"xaxis\":{\"backgroundcolor\":\"#E5ECF6\",\"gridcolor\":\"white\",\"linecolor\":\"white\",\"showbackground\":true,\"ticks\":\"\",\"zerolinecolor\":\"white\",\"gridwidth\":2},\"yaxis\":{\"backgroundcolor\":\"#E5ECF6\",\"gridcolor\":\"white\",\"linecolor\":\"white\",\"showbackground\":true,\"ticks\":\"\",\"zerolinecolor\":\"white\",\"gridwidth\":2},\"zaxis\":{\"backgroundcolor\":\"#E5ECF6\",\"gridcolor\":\"white\",\"linecolor\":\"white\",\"showbackground\":true,\"ticks\":\"\",\"zerolinecolor\":\"white\",\"gridwidth\":2}},\"shapedefaults\":{\"line\":{\"color\":\"#2a3f5f\"}},\"annotationdefaults\":{\"arrowcolor\":\"#2a3f5f\",\"arrowhead\":0,\"arrowwidth\":1},\"geo\":{\"bgcolor\":\"white\",\"landcolor\":\"#E5ECF6\",\"subunitcolor\":\"white\",\"showland\":true,\"showlakes\":true,\"lakecolor\":\"white\"},\"title\":{\"x\":0.05},\"mapbox\":{\"style\":\"light\"}}},\"xaxis\":{\"side\":\"top\",\"range\":[25,0]},\"yaxis\":{\"side\":\"right\"},\"plot_bgcolor\":\"rgba(0,0,0,0)\",\"bargap\":0.1,\"height\":500},                        {\"responsive\": true}                    ).then(function(){\n",
       "                            \n",
       "var gd = document.getElementById('6acb0a23-af1b-4082-87e8-47bee157b62d');\n",
       "var x = new MutationObserver(function (mutations, observer) {{\n",
       "        var display = window.getComputedStyle(gd).display;\n",
       "        if (!display || display === 'none') {{\n",
       "            console.log([gd, 'removed!']);\n",
       "            Plotly.purge(gd);\n",
       "            observer.disconnect();\n",
       "        }}\n",
       "}});\n",
       "\n",
       "// Listen for the removal of the full notebook cells\n",
       "var notebookContainer = gd.closest('#notebook-container');\n",
       "if (notebookContainer) {{\n",
       "    x.observe(notebookContainer, {childList: true});\n",
       "}}\n",
       "\n",
       "// Listen for the clearing of the current output cell\n",
       "var outputEl = gd.closest('.output');\n",
       "if (outputEl) {{\n",
       "    x.observe(outputEl, {childList: true});\n",
       "}}\n",
       "\n",
       "                        })                };                });            </script>        </div>"
      ]
     },
     "metadata": {},
     "output_type": "display_data"
    }
   ],
   "source": [
    "plot_players_left(\"Erling Haaland\", forward_features, df_players)"
   ]
  },
  {
   "cell_type": "code",
   "execution_count": 28,
   "id": "31dc4000",
   "metadata": {
    "execution": {
     "iopub.execute_input": "2023-07-18T13:20:19.405959Z",
     "iopub.status.busy": "2023-07-18T13:20:19.404749Z",
     "iopub.status.idle": "2023-07-18T13:20:19.485035Z",
     "shell.execute_reply": "2023-07-18T13:20:19.483741Z"
    },
    "papermill": {
     "duration": 0.096562,
     "end_time": "2023-07-18T13:20:19.487729",
     "exception": false,
     "start_time": "2023-07-18T13:20:19.391167",
     "status": "completed"
    },
    "tags": []
   },
   "outputs": [
    {
     "name": "stderr",
     "output_type": "stream",
     "text": [
      "/opt/conda/lib/python3.10/site-packages/plotly/express/_core.py:271: FutureWarning:\n",
      "\n",
      "The frame.append method is deprecated and will be removed from pandas in a future version. Use pandas.concat instead.\n",
      "\n"
     ]
    },
    {
     "data": {
      "text/html": [
       "<div>                            <div id=\"c9b6410a-3c38-4dcf-816d-5dd597f6d602\" class=\"plotly-graph-div\" style=\"height:525px; width:100%;\"></div>            <script type=\"text/javascript\">                require([\"plotly\"], function(Plotly) {                    window.PLOTLYENV=window.PLOTLYENV || {};                                    if (document.getElementById(\"c9b6410a-3c38-4dcf-816d-5dd597f6d602\")) {                    Plotly.newPlot(                        \"c9b6410a-3c38-4dcf-816d-5dd597f6d602\",                        [{\"hovertemplate\":\"r=%{r}<br>theta=%{theta}<extra></extra>\",\"legendgroup\":\"\",\"line\":{\"color\":\"black\",\"dash\":\"solid\"},\"marker\":{\"symbol\":\"circle\"},\"mode\":\"lines\",\"name\":\"\",\"r\":[1.0,0.25666666666666665,0.1909353905496625,0.04978723404255319,0.016,0.06766666666666665,0.06766666666666665,0.011000000000000001,0.004766031195840555,0.010054844606946984,1.0],\"showlegend\":false,\"subplot\":\"polar\",\"theta\":[\"Goals scored or allowed\",\"Shots total (Does not include penalty kicks)\",\"Shots on target (Does not include penalty kicks)\",\"Passes completed\",\"Assists\",\"Shot-creating actions\",\"Shot-creating actions\",\"Successful dribbles that lead to a shot attempt\",\"Number of players tackled\",\"Interceptions\",\"Goals scored or allowed\"],\"type\":\"scatterpolar\",\"fill\":\"toself\",\"fillcolor\":\"steelblue\",\"opacity\":0.8}],                        {\"template\":{\"data\":{\"histogram2dcontour\":[{\"type\":\"histogram2dcontour\",\"colorbar\":{\"outlinewidth\":0,\"ticks\":\"\"},\"colorscale\":[[0.0,\"#0d0887\"],[0.1111111111111111,\"#46039f\"],[0.2222222222222222,\"#7201a8\"],[0.3333333333333333,\"#9c179e\"],[0.4444444444444444,\"#bd3786\"],[0.5555555555555556,\"#d8576b\"],[0.6666666666666666,\"#ed7953\"],[0.7777777777777778,\"#fb9f3a\"],[0.8888888888888888,\"#fdca26\"],[1.0,\"#f0f921\"]]}],\"choropleth\":[{\"type\":\"choropleth\",\"colorbar\":{\"outlinewidth\":0,\"ticks\":\"\"}}],\"histogram2d\":[{\"type\":\"histogram2d\",\"colorbar\":{\"outlinewidth\":0,\"ticks\":\"\"},\"colorscale\":[[0.0,\"#0d0887\"],[0.1111111111111111,\"#46039f\"],[0.2222222222222222,\"#7201a8\"],[0.3333333333333333,\"#9c179e\"],[0.4444444444444444,\"#bd3786\"],[0.5555555555555556,\"#d8576b\"],[0.6666666666666666,\"#ed7953\"],[0.7777777777777778,\"#fb9f3a\"],[0.8888888888888888,\"#fdca26\"],[1.0,\"#f0f921\"]]}],\"heatmap\":[{\"type\":\"heatmap\",\"colorbar\":{\"outlinewidth\":0,\"ticks\":\"\"},\"colorscale\":[[0.0,\"#0d0887\"],[0.1111111111111111,\"#46039f\"],[0.2222222222222222,\"#7201a8\"],[0.3333333333333333,\"#9c179e\"],[0.4444444444444444,\"#bd3786\"],[0.5555555555555556,\"#d8576b\"],[0.6666666666666666,\"#ed7953\"],[0.7777777777777778,\"#fb9f3a\"],[0.8888888888888888,\"#fdca26\"],[1.0,\"#f0f921\"]]}],\"heatmapgl\":[{\"type\":\"heatmapgl\",\"colorbar\":{\"outlinewidth\":0,\"ticks\":\"\"},\"colorscale\":[[0.0,\"#0d0887\"],[0.1111111111111111,\"#46039f\"],[0.2222222222222222,\"#7201a8\"],[0.3333333333333333,\"#9c179e\"],[0.4444444444444444,\"#bd3786\"],[0.5555555555555556,\"#d8576b\"],[0.6666666666666666,\"#ed7953\"],[0.7777777777777778,\"#fb9f3a\"],[0.8888888888888888,\"#fdca26\"],[1.0,\"#f0f921\"]]}],\"contourcarpet\":[{\"type\":\"contourcarpet\",\"colorbar\":{\"outlinewidth\":0,\"ticks\":\"\"}}],\"contour\":[{\"type\":\"contour\",\"colorbar\":{\"outlinewidth\":0,\"ticks\":\"\"},\"colorscale\":[[0.0,\"#0d0887\"],[0.1111111111111111,\"#46039f\"],[0.2222222222222222,\"#7201a8\"],[0.3333333333333333,\"#9c179e\"],[0.4444444444444444,\"#bd3786\"],[0.5555555555555556,\"#d8576b\"],[0.6666666666666666,\"#ed7953\"],[0.7777777777777778,\"#fb9f3a\"],[0.8888888888888888,\"#fdca26\"],[1.0,\"#f0f921\"]]}],\"surface\":[{\"type\":\"surface\",\"colorbar\":{\"outlinewidth\":0,\"ticks\":\"\"},\"colorscale\":[[0.0,\"#0d0887\"],[0.1111111111111111,\"#46039f\"],[0.2222222222222222,\"#7201a8\"],[0.3333333333333333,\"#9c179e\"],[0.4444444444444444,\"#bd3786\"],[0.5555555555555556,\"#d8576b\"],[0.6666666666666666,\"#ed7953\"],[0.7777777777777778,\"#fb9f3a\"],[0.8888888888888888,\"#fdca26\"],[1.0,\"#f0f921\"]]}],\"mesh3d\":[{\"type\":\"mesh3d\",\"colorbar\":{\"outlinewidth\":0,\"ticks\":\"\"}}],\"scatter\":[{\"fillpattern\":{\"fillmode\":\"overlay\",\"size\":10,\"solidity\":0.2},\"type\":\"scatter\"}],\"parcoords\":[{\"type\":\"parcoords\",\"line\":{\"colorbar\":{\"outlinewidth\":0,\"ticks\":\"\"}}}],\"scatterpolargl\":[{\"type\":\"scatterpolargl\",\"marker\":{\"colorbar\":{\"outlinewidth\":0,\"ticks\":\"\"}}}],\"bar\":[{\"error_x\":{\"color\":\"#2a3f5f\"},\"error_y\":{\"color\":\"#2a3f5f\"},\"marker\":{\"line\":{\"color\":\"#E5ECF6\",\"width\":0.5},\"pattern\":{\"fillmode\":\"overlay\",\"size\":10,\"solidity\":0.2}},\"type\":\"bar\"}],\"scattergeo\":[{\"type\":\"scattergeo\",\"marker\":{\"colorbar\":{\"outlinewidth\":0,\"ticks\":\"\"}}}],\"scatterpolar\":[{\"type\":\"scatterpolar\",\"marker\":{\"colorbar\":{\"outlinewidth\":0,\"ticks\":\"\"}}}],\"histogram\":[{\"marker\":{\"pattern\":{\"fillmode\":\"overlay\",\"size\":10,\"solidity\":0.2}},\"type\":\"histogram\"}],\"scattergl\":[{\"type\":\"scattergl\",\"marker\":{\"colorbar\":{\"outlinewidth\":0,\"ticks\":\"\"}}}],\"scatter3d\":[{\"type\":\"scatter3d\",\"line\":{\"colorbar\":{\"outlinewidth\":0,\"ticks\":\"\"}},\"marker\":{\"colorbar\":{\"outlinewidth\":0,\"ticks\":\"\"}}}],\"scattermapbox\":[{\"type\":\"scattermapbox\",\"marker\":{\"colorbar\":{\"outlinewidth\":0,\"ticks\":\"\"}}}],\"scatterternary\":[{\"type\":\"scatterternary\",\"marker\":{\"colorbar\":{\"outlinewidth\":0,\"ticks\":\"\"}}}],\"scattercarpet\":[{\"type\":\"scattercarpet\",\"marker\":{\"colorbar\":{\"outlinewidth\":0,\"ticks\":\"\"}}}],\"carpet\":[{\"aaxis\":{\"endlinecolor\":\"#2a3f5f\",\"gridcolor\":\"white\",\"linecolor\":\"white\",\"minorgridcolor\":\"white\",\"startlinecolor\":\"#2a3f5f\"},\"baxis\":{\"endlinecolor\":\"#2a3f5f\",\"gridcolor\":\"white\",\"linecolor\":\"white\",\"minorgridcolor\":\"white\",\"startlinecolor\":\"#2a3f5f\"},\"type\":\"carpet\"}],\"table\":[{\"cells\":{\"fill\":{\"color\":\"#EBF0F8\"},\"line\":{\"color\":\"white\"}},\"header\":{\"fill\":{\"color\":\"#C8D4E3\"},\"line\":{\"color\":\"white\"}},\"type\":\"table\"}],\"barpolar\":[{\"marker\":{\"line\":{\"color\":\"#E5ECF6\",\"width\":0.5},\"pattern\":{\"fillmode\":\"overlay\",\"size\":10,\"solidity\":0.2}},\"type\":\"barpolar\"}],\"pie\":[{\"automargin\":true,\"type\":\"pie\"}]},\"layout\":{\"autotypenumbers\":\"strict\",\"colorway\":[\"#636efa\",\"#EF553B\",\"#00cc96\",\"#ab63fa\",\"#FFA15A\",\"#19d3f3\",\"#FF6692\",\"#B6E880\",\"#FF97FF\",\"#FECB52\"],\"font\":{\"color\":\"#2a3f5f\"},\"hovermode\":\"closest\",\"hoverlabel\":{\"align\":\"left\"},\"paper_bgcolor\":\"white\",\"plot_bgcolor\":\"#E5ECF6\",\"polar\":{\"bgcolor\":\"#E5ECF6\",\"angularaxis\":{\"gridcolor\":\"white\",\"linecolor\":\"white\",\"ticks\":\"\"},\"radialaxis\":{\"gridcolor\":\"white\",\"linecolor\":\"white\",\"ticks\":\"\"}},\"ternary\":{\"bgcolor\":\"#E5ECF6\",\"aaxis\":{\"gridcolor\":\"white\",\"linecolor\":\"white\",\"ticks\":\"\"},\"baxis\":{\"gridcolor\":\"white\",\"linecolor\":\"white\",\"ticks\":\"\"},\"caxis\":{\"gridcolor\":\"white\",\"linecolor\":\"white\",\"ticks\":\"\"}},\"coloraxis\":{\"colorbar\":{\"outlinewidth\":0,\"ticks\":\"\"}},\"colorscale\":{\"sequential\":[[0.0,\"#0d0887\"],[0.1111111111111111,\"#46039f\"],[0.2222222222222222,\"#7201a8\"],[0.3333333333333333,\"#9c179e\"],[0.4444444444444444,\"#bd3786\"],[0.5555555555555556,\"#d8576b\"],[0.6666666666666666,\"#ed7953\"],[0.7777777777777778,\"#fb9f3a\"],[0.8888888888888888,\"#fdca26\"],[1.0,\"#f0f921\"]],\"sequentialminus\":[[0.0,\"#0d0887\"],[0.1111111111111111,\"#46039f\"],[0.2222222222222222,\"#7201a8\"],[0.3333333333333333,\"#9c179e\"],[0.4444444444444444,\"#bd3786\"],[0.5555555555555556,\"#d8576b\"],[0.6666666666666666,\"#ed7953\"],[0.7777777777777778,\"#fb9f3a\"],[0.8888888888888888,\"#fdca26\"],[1.0,\"#f0f921\"]],\"diverging\":[[0,\"#8e0152\"],[0.1,\"#c51b7d\"],[0.2,\"#de77ae\"],[0.3,\"#f1b6da\"],[0.4,\"#fde0ef\"],[0.5,\"#f7f7f7\"],[0.6,\"#e6f5d0\"],[0.7,\"#b8e186\"],[0.8,\"#7fbc41\"],[0.9,\"#4d9221\"],[1,\"#276419\"]]},\"xaxis\":{\"gridcolor\":\"white\",\"linecolor\":\"white\",\"ticks\":\"\",\"title\":{\"standoff\":15},\"zerolinecolor\":\"white\",\"automargin\":true,\"zerolinewidth\":2},\"yaxis\":{\"gridcolor\":\"white\",\"linecolor\":\"white\",\"ticks\":\"\",\"title\":{\"standoff\":15},\"zerolinecolor\":\"white\",\"automargin\":true,\"zerolinewidth\":2},\"scene\":{\"xaxis\":{\"backgroundcolor\":\"#E5ECF6\",\"gridcolor\":\"white\",\"linecolor\":\"white\",\"showbackground\":true,\"ticks\":\"\",\"zerolinecolor\":\"white\",\"gridwidth\":2},\"yaxis\":{\"backgroundcolor\":\"#E5ECF6\",\"gridcolor\":\"white\",\"linecolor\":\"white\",\"showbackground\":true,\"ticks\":\"\",\"zerolinecolor\":\"white\",\"gridwidth\":2},\"zaxis\":{\"backgroundcolor\":\"#E5ECF6\",\"gridcolor\":\"white\",\"linecolor\":\"white\",\"showbackground\":true,\"ticks\":\"\",\"zerolinecolor\":\"white\",\"gridwidth\":2}},\"shapedefaults\":{\"line\":{\"color\":\"#2a3f5f\"}},\"annotationdefaults\":{\"arrowcolor\":\"#2a3f5f\",\"arrowhead\":0,\"arrowwidth\":1},\"geo\":{\"bgcolor\":\"white\",\"landcolor\":\"#E5ECF6\",\"subunitcolor\":\"white\",\"showland\":true,\"showlakes\":true,\"lakecolor\":\"white\"},\"title\":{\"x\":0.05},\"mapbox\":{\"style\":\"light\"}}},\"polar\":{\"domain\":{\"x\":[0.0,1.0],\"y\":[0.0,1.0]},\"angularaxis\":{\"direction\":\"clockwise\",\"rotation\":90},\"radialaxis\":{\"range\":[0,1],\"showticklabels\":false}},\"legend\":{\"tracegroupgap\":0},\"margin\":{\"t\":60},\"plot_bgcolor\":\"white\"},                        {\"responsive\": true}                    ).then(function(){\n",
       "                            \n",
       "var gd = document.getElementById('c9b6410a-3c38-4dcf-816d-5dd597f6d602');\n",
       "var x = new MutationObserver(function (mutations, observer) {{\n",
       "        var display = window.getComputedStyle(gd).display;\n",
       "        if (!display || display === 'none') {{\n",
       "            console.log([gd, 'removed!']);\n",
       "            Plotly.purge(gd);\n",
       "            observer.disconnect();\n",
       "        }}\n",
       "}});\n",
       "\n",
       "// Listen for the removal of the full notebook cells\n",
       "var notebookContainer = gd.closest('#notebook-container');\n",
       "if (notebookContainer) {{\n",
       "    x.observe(notebookContainer, {childList: true});\n",
       "}}\n",
       "\n",
       "// Listen for the clearing of the current output cell\n",
       "var outputEl = gd.closest('.output');\n",
       "if (outputEl) {{\n",
       "    x.observe(outputEl, {childList: true});\n",
       "}}\n",
       "\n",
       "                        })                };                });            </script>        </div>"
      ]
     },
     "metadata": {},
     "output_type": "display_data"
    }
   ],
   "source": [
    "plot_radar(\"Erling Haaland\", df_radar)"
   ]
  }
 ],
 "metadata": {
  "kernelspec": {
   "display_name": "Python 3",
   "language": "python",
   "name": "python3"
  },
  "language_info": {
   "codemirror_mode": {
    "name": "ipython",
    "version": 3
   },
   "file_extension": ".py",
   "mimetype": "text/x-python",
   "name": "python",
   "nbconvert_exporter": "python",
   "pygments_lexer": "ipython3",
   "version": "3.10.10"
  },
  "papermill": {
   "default_parameters": {},
   "duration": 30.020713,
   "end_time": "2023-07-18T13:20:20.725816",
   "environment_variables": {},
   "exception": null,
   "input_path": "__notebook__.ipynb",
   "output_path": "__notebook__.ipynb",
   "parameters": {},
   "start_time": "2023-07-18T13:19:50.705103",
   "version": "2.4.0"
  }
 },
 "nbformat": 4,
 "nbformat_minor": 5
}
